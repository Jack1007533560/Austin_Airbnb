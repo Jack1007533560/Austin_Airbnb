{
 "cells": [
  {
   "cell_type": "markdown",
   "metadata": {},
   "source": [
    "# Spatial Data Processing with PySAL & Pandas\n",
    "\n",
    "> [`IPYNB`](../content/part1/01_data_processing.ipynb)"
   ]
  },
  {
   "cell_type": "code",
   "execution_count": 1,
   "metadata": {
    "collapsed": false
   },
   "outputs": [],
   "source": [
    "#by convention, we use these shorter two-letter names\n",
    "import pysal as ps\n",
    "import pandas as pd\n",
    "import numpy as np"
   ]
  },
  {
   "cell_type": "markdown",
   "metadata": {},
   "source": [
    "PySAL has two simple ways to read in data. But, first, you need to get the path from where your notebook is running on your computer to the place the data is. For example, to find where the notebook is running:"
   ]
  },
  {
   "cell_type": "code",
   "execution_count": 2,
   "metadata": {
    "collapsed": false
   },
   "outputs": [
    {
     "name": "stdout",
     "output_type": "stream",
     "text": [
      "/Users/dani/code/gds_scipy16/content/part1\r\n"
     ]
    }
   ],
   "source": [
    "!pwd # on windows !cd"
   ]
  },
  {
   "cell_type": "markdown",
   "metadata": {},
   "source": [
    "PySAL has a command that it uses to get the paths of its example datasets. Let's work with a commonly-used dataset first. "
   ]
  },
  {
   "cell_type": "code",
   "execution_count": 3,
   "metadata": {
    "collapsed": false,
    "scrolled": true
   },
   "outputs": [
    {
     "data": {
      "text/plain": [
       "['10740',\n",
       " 'arcgis',\n",
       " 'baltim',\n",
       " 'book',\n",
       " 'burkitt',\n",
       " 'calemp',\n",
       " 'chicago',\n",
       " 'columbus',\n",
       " 'desmith',\n",
       " 'geodanet',\n",
       " 'juvenile',\n",
       " 'Line',\n",
       " 'mexico',\n",
       " 'nat',\n",
       " 'networks',\n",
       " 'newHaven',\n",
       " 'Point',\n",
       " 'Polygon',\n",
       " 'sacramento2',\n",
       " 'sids2',\n",
       " 'snow_maps',\n",
       " 'south',\n",
       " 'stl',\n",
       " 'street_net_pts',\n",
       " 'taz',\n",
       " 'us_income',\n",
       " 'virginia',\n",
       " 'wmat']"
      ]
     },
     "execution_count": 3,
     "metadata": {},
     "output_type": "execute_result"
    }
   ],
   "source": [
    "ps.examples.available()"
   ]
  },
  {
   "cell_type": "code",
   "execution_count": 4,
   "metadata": {
    "collapsed": false
   },
   "outputs": [
    {
     "data": {
      "text/plain": [
       "{'description': 'Per-capita income for the lower 47 US states 1929-2010',\n",
       " 'explanation': [' * us48.shp: shapefile ',\n",
       "  ' * us48.dbf: dbf for shapefile',\n",
       "  ' * us48.shx: index for shapefile',\n",
       "  ' * usjoin.csv: attribute data (comma delimited file)'],\n",
       " 'name': 'us_income'}"
      ]
     },
     "execution_count": 4,
     "metadata": {},
     "output_type": "execute_result"
    }
   ],
   "source": [
    "ps.examples.explain('us_income')"
   ]
  },
  {
   "cell_type": "code",
   "execution_count": 5,
   "metadata": {
    "collapsed": true
   },
   "outputs": [],
   "source": [
    "csv_path = ps.examples.get_path('usjoin.csv')"
   ]
  },
  {
   "cell_type": "code",
   "execution_count": 6,
   "metadata": {
    "collapsed": false
   },
   "outputs": [
    {
     "data": {
      "text/plain": [
       "['Name',\n",
       " 'STATE_FIPS',\n",
       " '1929',\n",
       " '1930',\n",
       " '1931',\n",
       " '1932',\n",
       " '1933',\n",
       " '1934',\n",
       " '1935',\n",
       " '1936']"
      ]
     },
     "execution_count": 6,
     "metadata": {},
     "output_type": "execute_result"
    }
   ],
   "source": [
    "f = ps.open(csv_path)\n",
    "f.header[0:10]"
   ]
  },
  {
   "cell_type": "code",
   "execution_count": 7,
   "metadata": {
    "collapsed": true
   },
   "outputs": [],
   "source": [
    "y2009 = f.by_col('2009')"
   ]
  },
  {
   "cell_type": "code",
   "execution_count": 8,
   "metadata": {
    "collapsed": false
   },
   "outputs": [
    {
     "data": {
      "text/plain": [
       "[32274, 32077, 31493, 40902, 40093, 52736, 40135, 36565, 33086, 30987]"
      ]
     },
     "execution_count": 8,
     "metadata": {},
     "output_type": "execute_result"
    }
   ],
   "source": [
    "y2009[0:10]"
   ]
  },
  {
   "cell_type": "markdown",
   "metadata": {},
   "source": [
    "### Working with shapefiles"
   ]
  },
  {
   "cell_type": "markdown",
   "metadata": {},
   "source": [
    "We can also work with local files outside the built-in examples.\n",
    "\n",
    "To read in a shapefile, we will need the path to the file."
   ]
  },
  {
   "cell_type": "code",
   "execution_count": 9,
   "metadata": {
    "collapsed": false
   },
   "outputs": [
    {
     "name": "stdout",
     "output_type": "stream",
     "text": [
      "../data/texas.shp\n"
     ]
    }
   ],
   "source": [
    "shp_path = '../data/texas.shp'\n",
    "print(shp_path)"
   ]
  },
  {
   "cell_type": "markdown",
   "metadata": {},
   "source": [
    "Then, we open the file using the `ps.open` command:"
   ]
  },
  {
   "cell_type": "code",
   "execution_count": 10,
   "metadata": {
    "collapsed": true
   },
   "outputs": [],
   "source": [
    "f = ps.open(shp_path)"
   ]
  },
  {
   "cell_type": "markdown",
   "metadata": {},
   "source": [
    "`f` is what we call a \"file handle.\" That means that it only *points* to the data and provides ways to work with it. By itself, it does not read the whole dataset into memory. To see basic information about the file, we can use a few different methods. \n",
    "\n",
    "For instance, the header of the file, which contains most of the metadata about the file:"
   ]
  },
  {
   "cell_type": "code",
   "execution_count": 11,
   "metadata": {
    "collapsed": false
   },
   "outputs": [
    {
     "data": {
      "text/plain": [
       "{'BBOX Mmax': 0.0,\n",
       " 'BBOX Mmin': 0.0,\n",
       " 'BBOX Xmax': -93.50721740722656,\n",
       " 'BBOX Xmin': -106.6495132446289,\n",
       " 'BBOX Ymax': 36.49387741088867,\n",
       " 'BBOX Ymin': 25.845197677612305,\n",
       " 'BBOX Zmax': 0.0,\n",
       " 'BBOX Zmin': 0.0,\n",
       " 'File Code': 9994,\n",
       " 'File Length': 49902,\n",
       " 'Shape Type': 5,\n",
       " 'Unused0': 0,\n",
       " 'Unused1': 0,\n",
       " 'Unused2': 0,\n",
       " 'Unused3': 0,\n",
       " 'Unused4': 0,\n",
       " 'Version': 1000}"
      ]
     },
     "execution_count": 11,
     "metadata": {},
     "output_type": "execute_result"
    }
   ],
   "source": [
    "f.header"
   ]
  },
  {
   "cell_type": "markdown",
   "metadata": {},
   "source": [
    "To actually read in the shapes from memory, you can use the following commands:"
   ]
  },
  {
   "cell_type": "code",
   "execution_count": 12,
   "metadata": {
    "collapsed": false
   },
   "outputs": [
    {
     "data": {
      "text/plain": [
       "<pysal.cg.shapes.Polygon at 0x10d8baa20>"
      ]
     },
     "execution_count": 12,
     "metadata": {},
     "output_type": "execute_result"
    }
   ],
   "source": [
    "f.by_row(14) #gets the 14th shape from the file"
   ]
  },
  {
   "cell_type": "code",
   "execution_count": 13,
   "metadata": {
    "collapsed": true
   },
   "outputs": [],
   "source": [
    "all_polygons = f.read() #reads in all polygons from memory"
   ]
  },
  {
   "cell_type": "code",
   "execution_count": 14,
   "metadata": {
    "collapsed": false
   },
   "outputs": [
    {
     "data": {
      "text/plain": [
       "254"
      ]
     },
     "execution_count": 14,
     "metadata": {},
     "output_type": "execute_result"
    }
   ],
   "source": [
    "len(all_polygons)"
   ]
  },
  {
   "cell_type": "markdown",
   "metadata": {},
   "source": [
    "So, all 254 polygons have been read in from file. These are stored in PySAL shape objects, which can be used by PySAL and can be converted to other Python shape objects.\n",
    "\n",
    "They typically have a few methods. So, since we've read in polygonal data, we can get some properties about the polygons. Let's just have a look at the first polygon:"
   ]
  },
  {
   "cell_type": "code",
   "execution_count": 15,
   "metadata": {
    "collapsed": false
   },
   "outputs": [
    {
     "data": {
      "text/plain": [
       "[<pysal.cg.shapes.Polygon at 0x10d8baba8>,\n",
       " <pysal.cg.shapes.Polygon at 0x10d8ba908>,\n",
       " <pysal.cg.shapes.Polygon at 0x10d8ba860>,\n",
       " <pysal.cg.shapes.Polygon at 0x10d8ba8d0>,\n",
       " <pysal.cg.shapes.Polygon at 0x10d8baa90>]"
      ]
     },
     "execution_count": 15,
     "metadata": {},
     "output_type": "execute_result"
    }
   ],
   "source": [
    "all_polygons[0:5]"
   ]
  },
  {
   "cell_type": "code",
   "execution_count": 16,
   "metadata": {
    "collapsed": false
   },
   "outputs": [
    {
     "data": {
      "text/plain": [
       "(-100.27156110567945, 36.27508640938005)"
      ]
     },
     "execution_count": 16,
     "metadata": {},
     "output_type": "execute_result"
    }
   ],
   "source": [
    "all_polygons[0].centroid #the centroid of the first polygon"
   ]
  },
  {
   "cell_type": "code",
   "execution_count": 17,
   "metadata": {
    "collapsed": false
   },
   "outputs": [
    {
     "data": {
      "text/plain": [
       "0.23682222998468205"
      ]
     },
     "execution_count": 17,
     "metadata": {},
     "output_type": "execute_result"
    }
   ],
   "source": [
    "all_polygons[0].area"
   ]
  },
  {
   "cell_type": "code",
   "execution_count": 18,
   "metadata": {
    "collapsed": false
   },
   "outputs": [
    {
     "data": {
      "text/plain": [
       "1.9582821721538344"
      ]
     },
     "execution_count": 18,
     "metadata": {},
     "output_type": "execute_result"
    }
   ],
   "source": [
    "all_polygons[0].perimeter"
   ]
  },
  {
   "cell_type": "markdown",
   "metadata": {},
   "source": [
    "While in the Jupyter Notebook, you can examine what properties an object has by using the tab key."
   ]
  },
  {
   "cell_type": "code",
   "execution_count": 19,
   "metadata": {
    "collapsed": true
   },
   "outputs": [],
   "source": [
    "polygon = all_polygons[0]"
   ]
  },
  {
   "cell_type": "code",
   "execution_count": 20,
   "metadata": {
    "collapsed": false
   },
   "outputs": [
    {
     "ename": "SyntaxError",
     "evalue": "invalid syntax (<ipython-input-20-aa03438a2fa8>, line 1)",
     "output_type": "error",
     "traceback": [
      "\u001b[0;36m  File \u001b[0;32m\"<ipython-input-20-aa03438a2fa8>\"\u001b[0;36m, line \u001b[0;32m1\u001b[0m\n\u001b[0;31m    polygon. #press tab when the cursor is right after the dot\u001b[0m\n\u001b[0m                                                              ^\u001b[0m\n\u001b[0;31mSyntaxError\u001b[0m\u001b[0;31m:\u001b[0m invalid syntax\n"
     ]
    }
   ],
   "source": [
    "polygon. #press tab when the cursor is right after the dot"
   ]
  },
  {
   "cell_type": "markdown",
   "metadata": {},
   "source": [
    "### Working with Data Tables"
   ]
  },
  {
   "cell_type": "code",
   "execution_count": 21,
   "metadata": {
    "collapsed": false
   },
   "outputs": [
    {
     "name": "stdout",
     "output_type": "stream",
     "text": [
      "../data/texas.dbf\n"
     ]
    }
   ],
   "source": [
    "dbf_path = \"../data/texas.dbf\"\n",
    "print(dbf_path)"
   ]
  },
  {
   "cell_type": "markdown",
   "metadata": {},
   "source": [
    "When you're working with tables of data, like a `csv` or `dbf`, you can extract your data in the following way. Let's open the dbf file we got the path for above."
   ]
  },
  {
   "cell_type": "code",
   "execution_count": 22,
   "metadata": {
    "collapsed": false
   },
   "outputs": [],
   "source": [
    "f = ps.open(dbf_path)"
   ]
  },
  {
   "cell_type": "markdown",
   "metadata": {},
   "source": [
    "Just like with the shapefile, we can examine the header of the dbf file."
   ]
  },
  {
   "cell_type": "code",
   "execution_count": 23,
   "metadata": {
    "collapsed": false
   },
   "outputs": [
    {
     "data": {
      "text/plain": [
       "['NAME',\n",
       " 'STATE_NAME',\n",
       " 'STATE_FIPS',\n",
       " 'CNTY_FIPS',\n",
       " 'FIPS',\n",
       " 'STFIPS',\n",
       " 'COFIPS',\n",
       " 'FIPSNO',\n",
       " 'SOUTH',\n",
       " 'HR60',\n",
       " 'HR70',\n",
       " 'HR80',\n",
       " 'HR90',\n",
       " 'HC60',\n",
       " 'HC70',\n",
       " 'HC80',\n",
       " 'HC90',\n",
       " 'PO60',\n",
       " 'PO70',\n",
       " 'PO80',\n",
       " 'PO90',\n",
       " 'RD60',\n",
       " 'RD70',\n",
       " 'RD80',\n",
       " 'RD90',\n",
       " 'PS60',\n",
       " 'PS70',\n",
       " 'PS80',\n",
       " 'PS90',\n",
       " 'UE60',\n",
       " 'UE70',\n",
       " 'UE80',\n",
       " 'UE90',\n",
       " 'DV60',\n",
       " 'DV70',\n",
       " 'DV80',\n",
       " 'DV90',\n",
       " 'MA60',\n",
       " 'MA70',\n",
       " 'MA80',\n",
       " 'MA90',\n",
       " 'POL60',\n",
       " 'POL70',\n",
       " 'POL80',\n",
       " 'POL90',\n",
       " 'DNL60',\n",
       " 'DNL70',\n",
       " 'DNL80',\n",
       " 'DNL90',\n",
       " 'MFIL59',\n",
       " 'MFIL69',\n",
       " 'MFIL79',\n",
       " 'MFIL89',\n",
       " 'FP59',\n",
       " 'FP69',\n",
       " 'FP79',\n",
       " 'FP89',\n",
       " 'BLK60',\n",
       " 'BLK70',\n",
       " 'BLK80',\n",
       " 'BLK90',\n",
       " 'GI59',\n",
       " 'GI69',\n",
       " 'GI79',\n",
       " 'GI89',\n",
       " 'FH60',\n",
       " 'FH70',\n",
       " 'FH80',\n",
       " 'FH90']"
      ]
     },
     "execution_count": 23,
     "metadata": {},
     "output_type": "execute_result"
    }
   ],
   "source": [
    "f.header"
   ]
  },
  {
   "cell_type": "markdown",
   "metadata": {},
   "source": [
    "So, the header is a list containing the names of all of the fields we can read.\n",
    "If we just wanted to grab the data of interest, `HR90`, we can use either `by_col` or `by_col_array`, depending on the format we want the resulting data in:"
   ]
  },
  {
   "cell_type": "code",
   "execution_count": 24,
   "metadata": {
    "collapsed": false
   },
   "outputs": [
    {
     "name": "stdout",
     "output_type": "stream",
     "text": [
      "list [0.0, 0.0, 18.31166453, 0.0, 3.6517674554]\n",
      "ndarray [[  0.        ]\n",
      " [  0.        ]\n",
      " [ 18.31166453]\n",
      " [  0.        ]\n",
      " [  3.65176746]]\n"
     ]
    }
   ],
   "source": [
    "HR90 = f.by_col('HR90')\n",
    "print(type(HR90).__name__, HR90[0:5])\n",
    "HR90 = f.by_col_array('HR90')\n",
    "print(type(HR90).__name__, HR90[0:5])"
   ]
  },
  {
   "cell_type": "markdown",
   "metadata": {},
   "source": [
    "As you can see, the `by_col` function returns a list of data, with no shape. It can only return one column at a time:"
   ]
  },
  {
   "cell_type": "code",
   "execution_count": 25,
   "metadata": {
    "collapsed": false
   },
   "outputs": [
    {
     "ename": "TypeError",
     "evalue": "__call__() takes 2 positional arguments but 3 were given",
     "output_type": "error",
     "traceback": [
      "\u001b[0;31m---------------------------------------------------------------------------\u001b[0m",
      "\u001b[0;31mTypeError\u001b[0m                                 Traceback (most recent call last)",
      "\u001b[0;32m<ipython-input-25-1fef6a3c3a50>\u001b[0m in \u001b[0;36m<module>\u001b[0;34m()\u001b[0m\n\u001b[0;32m----> 1\u001b[0;31m \u001b[0mHRs\u001b[0m \u001b[0;34m=\u001b[0m \u001b[0mf\u001b[0m\u001b[0;34m.\u001b[0m\u001b[0mby_col\u001b[0m\u001b[0;34m(\u001b[0m\u001b[0;34m'HR90'\u001b[0m\u001b[0;34m,\u001b[0m \u001b[0;34m'HR80'\u001b[0m\u001b[0;34m)\u001b[0m\u001b[0;34m\u001b[0m\u001b[0m\n\u001b[0m",
      "\u001b[0;31mTypeError\u001b[0m: __call__() takes 2 positional arguments but 3 were given"
     ]
    }
   ],
   "source": [
    "HRs = f.by_col('HR90', 'HR80')"
   ]
  },
  {
   "cell_type": "markdown",
   "metadata": {},
   "source": [
    "This error message is called a \"traceback,\" as you see in the top right, and it usually provides feedback on why the previous command did not execute correctly. Here, you see that one-too-many arguments was provided to `__call__`, which tells us we cannot pass as many arguments as we did to `by_col`.\n",
    "\n",
    "If you want to read in many columns at once and store them to an array, use `by_col_array`:"
   ]
  },
  {
   "cell_type": "code",
   "execution_count": 26,
   "metadata": {
    "collapsed": true
   },
   "outputs": [],
   "source": [
    "HRs = f.by_col_array('HR90', 'HR80')"
   ]
  },
  {
   "cell_type": "code",
   "execution_count": 27,
   "metadata": {
    "collapsed": false
   },
   "outputs": [
    {
     "data": {
      "text/plain": [
       "array([[  0.        ,   0.        ],\n",
       "       [  0.        ,  10.50199538],\n",
       "       [ 18.31166453,   5.10386362],\n",
       "       [  0.        ,   0.        ],\n",
       "       [  3.65176746,  10.4297038 ],\n",
       "       [  0.        ,   0.        ],\n",
       "       [  0.        ,  18.85369532],\n",
       "       [  2.59514448,   6.33617194],\n",
       "       [  0.        ,   0.        ],\n",
       "       [  5.59753708,   6.0331825 ]])"
      ]
     },
     "execution_count": 27,
     "metadata": {},
     "output_type": "execute_result"
    }
   ],
   "source": [
    "HRs[0:10]"
   ]
  },
  {
   "cell_type": "markdown",
   "metadata": {},
   "source": [
    "It is best to use `by_col_array` on data of a single type. That is, if you read in a lot of columns, some of them numbers and some of them strings, all columns will get converted to the same datatype:"
   ]
  },
  {
   "cell_type": "code",
   "execution_count": 28,
   "metadata": {
    "collapsed": true
   },
   "outputs": [],
   "source": [
    "allcolumns = f.by_col_array(['NAME', 'STATE_NAME', 'HR90', 'HR80'])"
   ]
  },
  {
   "cell_type": "code",
   "execution_count": 29,
   "metadata": {
    "collapsed": false
   },
   "outputs": [
    {
     "data": {
      "text/plain": [
       "array([['Lipscomb', 'Texas', '0.0', '0.0'],\n",
       "       ['Sherman', 'Texas', '0.0', '10.501995379'],\n",
       "       ['Dallam', 'Texas', '18.31166453', '5.1038636248'],\n",
       "       ..., \n",
       "       ['Hidalgo', 'Texas', '7.3003167816', '8.2383277607'],\n",
       "       ['Willacy', 'Texas', '5.6481219994', '7.6212251119'],\n",
       "       ['Cameron', 'Texas', '12.302014455', '11.761321464']], \n",
       "      dtype='<U13')"
      ]
     },
     "execution_count": 29,
     "metadata": {},
     "output_type": "execute_result"
    }
   ],
   "source": [
    "allcolumns"
   ]
  },
  {
   "cell_type": "markdown",
   "metadata": {},
   "source": [
    "Note that the numerical columns, `HR90` & `HR80` are now considered strings, since they show up with the single tickmarks around them, like `'0.0'`."
   ]
  },
  {
   "cell_type": "markdown",
   "metadata": {},
   "source": [
    "These methods work similarly for `.csv` files as well."
   ]
  },
  {
   "cell_type": "markdown",
   "metadata": {},
   "source": [
    "### Using Pandas with PySAL"
   ]
  },
  {
   "cell_type": "markdown",
   "metadata": {},
   "source": [
    "A new functionality added to PySAL recently allows you to work with shapefile/dbf pairs using Pandas. This *optional* extension is only turned on if you have Pandas installed. The extension is the `ps.pdio` module:"
   ]
  },
  {
   "cell_type": "code",
   "execution_count": 30,
   "metadata": {
    "collapsed": false
   },
   "outputs": [
    {
     "data": {
      "text/plain": [
       "<module 'pysal.contrib.pdutilities' from '/Users/dani/anaconda/envs/gds-scipy16/lib/python3.5/site-packages/pysal/contrib/pdutilities/__init__.py'>"
      ]
     },
     "execution_count": 30,
     "metadata": {},
     "output_type": "execute_result"
    }
   ],
   "source": [
    "ps.pdio"
   ]
  },
  {
   "cell_type": "markdown",
   "metadata": {},
   "source": [
    "To use it, you can read in shapefile/dbf pairs using the `ps.pdio.read_files` command. "
   ]
  },
  {
   "cell_type": "code",
   "execution_count": 31,
   "metadata": {
    "collapsed": false
   },
   "outputs": [],
   "source": [
    "shp_path = ps.examples.get_path('NAT.shp')\n",
    "data_table = ps.pdio.read_files(shp_path)"
   ]
  },
  {
   "cell_type": "markdown",
   "metadata": {},
   "source": [
    "This reads in *the entire database table* and adds a column to the end, called `geometry`, that stores the geometries read in from the shapefile. \n",
    "\n",
    "Now, you can work with it like a standard pandas dataframe."
   ]
  },
  {
   "cell_type": "code",
   "execution_count": 32,
   "metadata": {
    "collapsed": false
   },
   "outputs": [
    {
     "data": {
      "text/html": [
       "<div>\n",
       "<table border=\"1\" class=\"dataframe\">\n",
       "  <thead>\n",
       "    <tr style=\"text-align: right;\">\n",
       "      <th></th>\n",
       "      <th>NAME</th>\n",
       "      <th>STATE_NAME</th>\n",
       "      <th>STATE_FIPS</th>\n",
       "      <th>CNTY_FIPS</th>\n",
       "      <th>FIPS</th>\n",
       "      <th>STFIPS</th>\n",
       "      <th>COFIPS</th>\n",
       "      <th>FIPSNO</th>\n",
       "      <th>SOUTH</th>\n",
       "      <th>HR60</th>\n",
       "      <th>...</th>\n",
       "      <th>BLK90</th>\n",
       "      <th>GI59</th>\n",
       "      <th>GI69</th>\n",
       "      <th>GI79</th>\n",
       "      <th>GI89</th>\n",
       "      <th>FH60</th>\n",
       "      <th>FH70</th>\n",
       "      <th>FH80</th>\n",
       "      <th>FH90</th>\n",
       "      <th>geometry</th>\n",
       "    </tr>\n",
       "  </thead>\n",
       "  <tbody>\n",
       "    <tr>\n",
       "      <th>0</th>\n",
       "      <td>Lake of the Woods</td>\n",
       "      <td>Minnesota</td>\n",
       "      <td>27</td>\n",
       "      <td>077</td>\n",
       "      <td>27077</td>\n",
       "      <td>27</td>\n",
       "      <td>77</td>\n",
       "      <td>27077</td>\n",
       "      <td>0</td>\n",
       "      <td>0.000000</td>\n",
       "      <td>...</td>\n",
       "      <td>0.024534</td>\n",
       "      <td>0.285235</td>\n",
       "      <td>0.372336</td>\n",
       "      <td>0.342104</td>\n",
       "      <td>0.336455</td>\n",
       "      <td>11.279621</td>\n",
       "      <td>5.4</td>\n",
       "      <td>5.663881</td>\n",
       "      <td>9.515860</td>\n",
       "      <td>&lt;pysal.cg.shapes.Polygon object at 0x104125ef0&gt;</td>\n",
       "    </tr>\n",
       "    <tr>\n",
       "      <th>1</th>\n",
       "      <td>Ferry</td>\n",
       "      <td>Washington</td>\n",
       "      <td>53</td>\n",
       "      <td>019</td>\n",
       "      <td>53019</td>\n",
       "      <td>53</td>\n",
       "      <td>19</td>\n",
       "      <td>53019</td>\n",
       "      <td>0</td>\n",
       "      <td>0.000000</td>\n",
       "      <td>...</td>\n",
       "      <td>0.317712</td>\n",
       "      <td>0.256158</td>\n",
       "      <td>0.360665</td>\n",
       "      <td>0.361928</td>\n",
       "      <td>0.360640</td>\n",
       "      <td>10.053476</td>\n",
       "      <td>2.6</td>\n",
       "      <td>10.079576</td>\n",
       "      <td>11.397059</td>\n",
       "      <td>&lt;pysal.cg.shapes.Polygon object at 0x10d8ba390&gt;</td>\n",
       "    </tr>\n",
       "    <tr>\n",
       "      <th>2</th>\n",
       "      <td>Stevens</td>\n",
       "      <td>Washington</td>\n",
       "      <td>53</td>\n",
       "      <td>065</td>\n",
       "      <td>53065</td>\n",
       "      <td>53</td>\n",
       "      <td>65</td>\n",
       "      <td>53065</td>\n",
       "      <td>0</td>\n",
       "      <td>1.863863</td>\n",
       "      <td>...</td>\n",
       "      <td>0.210030</td>\n",
       "      <td>0.283999</td>\n",
       "      <td>0.394083</td>\n",
       "      <td>0.357566</td>\n",
       "      <td>0.369942</td>\n",
       "      <td>9.258437</td>\n",
       "      <td>5.6</td>\n",
       "      <td>6.812127</td>\n",
       "      <td>10.352015</td>\n",
       "      <td>&lt;pysal.cg.shapes.Polygon object at 0x104142400&gt;</td>\n",
       "    </tr>\n",
       "    <tr>\n",
       "      <th>3</th>\n",
       "      <td>Okanogan</td>\n",
       "      <td>Washington</td>\n",
       "      <td>53</td>\n",
       "      <td>047</td>\n",
       "      <td>53047</td>\n",
       "      <td>53</td>\n",
       "      <td>47</td>\n",
       "      <td>53047</td>\n",
       "      <td>0</td>\n",
       "      <td>2.612330</td>\n",
       "      <td>...</td>\n",
       "      <td>0.155922</td>\n",
       "      <td>0.258540</td>\n",
       "      <td>0.371218</td>\n",
       "      <td>0.381240</td>\n",
       "      <td>0.394519</td>\n",
       "      <td>9.039900</td>\n",
       "      <td>8.1</td>\n",
       "      <td>10.084926</td>\n",
       "      <td>12.840340</td>\n",
       "      <td>&lt;pysal.cg.shapes.Polygon object at 0x10dadd5c0&gt;</td>\n",
       "    </tr>\n",
       "    <tr>\n",
       "      <th>4</th>\n",
       "      <td>Pend Oreille</td>\n",
       "      <td>Washington</td>\n",
       "      <td>53</td>\n",
       "      <td>051</td>\n",
       "      <td>53051</td>\n",
       "      <td>53</td>\n",
       "      <td>51</td>\n",
       "      <td>53051</td>\n",
       "      <td>0</td>\n",
       "      <td>0.000000</td>\n",
       "      <td>...</td>\n",
       "      <td>0.134605</td>\n",
       "      <td>0.243263</td>\n",
       "      <td>0.365614</td>\n",
       "      <td>0.358706</td>\n",
       "      <td>0.387848</td>\n",
       "      <td>8.243930</td>\n",
       "      <td>4.1</td>\n",
       "      <td>7.557643</td>\n",
       "      <td>10.313002</td>\n",
       "      <td>&lt;pysal.cg.shapes.Polygon object at 0x10dadd630&gt;</td>\n",
       "    </tr>\n",
       "  </tbody>\n",
       "</table>\n",
       "<p>5 rows × 70 columns</p>\n",
       "</div>"
      ],
      "text/plain": [
       "                NAME  STATE_NAME STATE_FIPS CNTY_FIPS   FIPS  STFIPS  COFIPS  \\\n",
       "0  Lake of the Woods   Minnesota         27       077  27077      27      77   \n",
       "1              Ferry  Washington         53       019  53019      53      19   \n",
       "2            Stevens  Washington         53       065  53065      53      65   \n",
       "3           Okanogan  Washington         53       047  53047      53      47   \n",
       "4       Pend Oreille  Washington         53       051  53051      53      51   \n",
       "\n",
       "   FIPSNO  SOUTH      HR60                       ...                         \\\n",
       "0   27077      0  0.000000                       ...                          \n",
       "1   53019      0  0.000000                       ...                          \n",
       "2   53065      0  1.863863                       ...                          \n",
       "3   53047      0  2.612330                       ...                          \n",
       "4   53051      0  0.000000                       ...                          \n",
       "\n",
       "      BLK90      GI59      GI69      GI79      GI89       FH60  FH70  \\\n",
       "0  0.024534  0.285235  0.372336  0.342104  0.336455  11.279621   5.4   \n",
       "1  0.317712  0.256158  0.360665  0.361928  0.360640  10.053476   2.6   \n",
       "2  0.210030  0.283999  0.394083  0.357566  0.369942   9.258437   5.6   \n",
       "3  0.155922  0.258540  0.371218  0.381240  0.394519   9.039900   8.1   \n",
       "4  0.134605  0.243263  0.365614  0.358706  0.387848   8.243930   4.1   \n",
       "\n",
       "        FH80       FH90                                         geometry  \n",
       "0   5.663881   9.515860  <pysal.cg.shapes.Polygon object at 0x104125ef0>  \n",
       "1  10.079576  11.397059  <pysal.cg.shapes.Polygon object at 0x10d8ba390>  \n",
       "2   6.812127  10.352015  <pysal.cg.shapes.Polygon object at 0x104142400>  \n",
       "3  10.084926  12.840340  <pysal.cg.shapes.Polygon object at 0x10dadd5c0>  \n",
       "4   7.557643  10.313002  <pysal.cg.shapes.Polygon object at 0x10dadd630>  \n",
       "\n",
       "[5 rows x 70 columns]"
      ]
     },
     "execution_count": 32,
     "metadata": {},
     "output_type": "execute_result"
    }
   ],
   "source": [
    "data_table.head()"
   ]
  },
  {
   "cell_type": "markdown",
   "metadata": {},
   "source": [
    "The `read_files` function only works on shapefile/dbf pairs. If you need to read in data using CSVs, use pandas directly:"
   ]
  },
  {
   "cell_type": "code",
   "execution_count": 33,
   "metadata": {
    "collapsed": false
   },
   "outputs": [],
   "source": [
    "usjoin = pd.read_csv(csv_path)\n",
    "#usjoin = ps.pdio.read_files(csv_path) #will not work, not a shp/dbf pair"
   ]
  },
  {
   "cell_type": "code",
   "execution_count": 34,
   "metadata": {
    "collapsed": false
   },
   "outputs": [
    {
     "data": {
      "text/html": [
       "<div>\n",
       "<table border=\"1\" class=\"dataframe\">\n",
       "  <thead>\n",
       "    <tr style=\"text-align: right;\">\n",
       "      <th></th>\n",
       "      <th>Name</th>\n",
       "      <th>STATE_FIPS</th>\n",
       "      <th>1929</th>\n",
       "      <th>1930</th>\n",
       "      <th>1931</th>\n",
       "      <th>1932</th>\n",
       "      <th>1933</th>\n",
       "      <th>1934</th>\n",
       "      <th>1935</th>\n",
       "      <th>1936</th>\n",
       "      <th>...</th>\n",
       "      <th>2000</th>\n",
       "      <th>2001</th>\n",
       "      <th>2002</th>\n",
       "      <th>2003</th>\n",
       "      <th>2004</th>\n",
       "      <th>2005</th>\n",
       "      <th>2006</th>\n",
       "      <th>2007</th>\n",
       "      <th>2008</th>\n",
       "      <th>2009</th>\n",
       "    </tr>\n",
       "  </thead>\n",
       "  <tbody>\n",
       "    <tr>\n",
       "      <th>0</th>\n",
       "      <td>Alabama</td>\n",
       "      <td>1</td>\n",
       "      <td>323</td>\n",
       "      <td>267</td>\n",
       "      <td>224</td>\n",
       "      <td>162</td>\n",
       "      <td>166</td>\n",
       "      <td>211</td>\n",
       "      <td>217</td>\n",
       "      <td>251</td>\n",
       "      <td>...</td>\n",
       "      <td>23471</td>\n",
       "      <td>24467</td>\n",
       "      <td>25161</td>\n",
       "      <td>26065</td>\n",
       "      <td>27665</td>\n",
       "      <td>29097</td>\n",
       "      <td>30634</td>\n",
       "      <td>31988</td>\n",
       "      <td>32819</td>\n",
       "      <td>32274</td>\n",
       "    </tr>\n",
       "    <tr>\n",
       "      <th>1</th>\n",
       "      <td>Arizona</td>\n",
       "      <td>4</td>\n",
       "      <td>600</td>\n",
       "      <td>520</td>\n",
       "      <td>429</td>\n",
       "      <td>321</td>\n",
       "      <td>308</td>\n",
       "      <td>362</td>\n",
       "      <td>416</td>\n",
       "      <td>462</td>\n",
       "      <td>...</td>\n",
       "      <td>25578</td>\n",
       "      <td>26232</td>\n",
       "      <td>26469</td>\n",
       "      <td>27106</td>\n",
       "      <td>28753</td>\n",
       "      <td>30671</td>\n",
       "      <td>32552</td>\n",
       "      <td>33470</td>\n",
       "      <td>33445</td>\n",
       "      <td>32077</td>\n",
       "    </tr>\n",
       "    <tr>\n",
       "      <th>2</th>\n",
       "      <td>Arkansas</td>\n",
       "      <td>5</td>\n",
       "      <td>310</td>\n",
       "      <td>228</td>\n",
       "      <td>215</td>\n",
       "      <td>157</td>\n",
       "      <td>157</td>\n",
       "      <td>187</td>\n",
       "      <td>207</td>\n",
       "      <td>247</td>\n",
       "      <td>...</td>\n",
       "      <td>22257</td>\n",
       "      <td>23532</td>\n",
       "      <td>23929</td>\n",
       "      <td>25074</td>\n",
       "      <td>26465</td>\n",
       "      <td>27512</td>\n",
       "      <td>29041</td>\n",
       "      <td>31070</td>\n",
       "      <td>31800</td>\n",
       "      <td>31493</td>\n",
       "    </tr>\n",
       "    <tr>\n",
       "      <th>3</th>\n",
       "      <td>California</td>\n",
       "      <td>6</td>\n",
       "      <td>991</td>\n",
       "      <td>887</td>\n",
       "      <td>749</td>\n",
       "      <td>580</td>\n",
       "      <td>546</td>\n",
       "      <td>603</td>\n",
       "      <td>660</td>\n",
       "      <td>771</td>\n",
       "      <td>...</td>\n",
       "      <td>32275</td>\n",
       "      <td>32750</td>\n",
       "      <td>32900</td>\n",
       "      <td>33801</td>\n",
       "      <td>35663</td>\n",
       "      <td>37463</td>\n",
       "      <td>40169</td>\n",
       "      <td>41943</td>\n",
       "      <td>42377</td>\n",
       "      <td>40902</td>\n",
       "    </tr>\n",
       "    <tr>\n",
       "      <th>4</th>\n",
       "      <td>Colorado</td>\n",
       "      <td>8</td>\n",
       "      <td>634</td>\n",
       "      <td>578</td>\n",
       "      <td>471</td>\n",
       "      <td>354</td>\n",
       "      <td>353</td>\n",
       "      <td>368</td>\n",
       "      <td>444</td>\n",
       "      <td>542</td>\n",
       "      <td>...</td>\n",
       "      <td>32949</td>\n",
       "      <td>34228</td>\n",
       "      <td>33963</td>\n",
       "      <td>34092</td>\n",
       "      <td>35543</td>\n",
       "      <td>37388</td>\n",
       "      <td>39662</td>\n",
       "      <td>41165</td>\n",
       "      <td>41719</td>\n",
       "      <td>40093</td>\n",
       "    </tr>\n",
       "  </tbody>\n",
       "</table>\n",
       "<p>5 rows × 83 columns</p>\n",
       "</div>"
      ],
      "text/plain": [
       "         Name  STATE_FIPS  1929  1930  1931  1932  1933  1934  1935  1936  \\\n",
       "0     Alabama           1   323   267   224   162   166   211   217   251   \n",
       "1     Arizona           4   600   520   429   321   308   362   416   462   \n",
       "2    Arkansas           5   310   228   215   157   157   187   207   247   \n",
       "3  California           6   991   887   749   580   546   603   660   771   \n",
       "4    Colorado           8   634   578   471   354   353   368   444   542   \n",
       "\n",
       "   ...     2000   2001   2002   2003   2004   2005   2006   2007   2008   2009  \n",
       "0  ...    23471  24467  25161  26065  27665  29097  30634  31988  32819  32274  \n",
       "1  ...    25578  26232  26469  27106  28753  30671  32552  33470  33445  32077  \n",
       "2  ...    22257  23532  23929  25074  26465  27512  29041  31070  31800  31493  \n",
       "3  ...    32275  32750  32900  33801  35663  37463  40169  41943  42377  40902  \n",
       "4  ...    32949  34228  33963  34092  35543  37388  39662  41165  41719  40093  \n",
       "\n",
       "[5 rows x 83 columns]"
      ]
     },
     "execution_count": 34,
     "metadata": {},
     "output_type": "execute_result"
    }
   ],
   "source": [
    "usjoin.head()"
   ]
  },
  {
   "cell_type": "markdown",
   "metadata": {},
   "source": [
    "The nice thing about working with pandas dataframes is that they have very powerful baked-in support for relational-style queries. By this, I mean that it is very easy to find things like:\n",
    "\n",
    "The number of counties in each state:"
   ]
  },
  {
   "cell_type": "code",
   "execution_count": 35,
   "metadata": {
    "collapsed": false
   },
   "outputs": [
    {
     "data": {
      "text/plain": [
       "STATE_NAME\n",
       "Alabama                  67\n",
       "Arizona                  14\n",
       "Arkansas                 75\n",
       "California               58\n",
       "Colorado                 63\n",
       "Connecticut               8\n",
       "Delaware                  3\n",
       "District of Columbia      1\n",
       "Florida                  67\n",
       "Georgia                 159\n",
       "Idaho                    44\n",
       "Illinois                102\n",
       "Indiana                  92\n",
       "Iowa                     99\n",
       "Kansas                  105\n",
       "Kentucky                120\n",
       "Louisiana                64\n",
       "Maine                    16\n",
       "Maryland                 24\n",
       "Massachusetts            12\n",
       "Michigan                 83\n",
       "Minnesota                87\n",
       "Mississippi              82\n",
       "Missouri                115\n",
       "Montana                  55\n",
       "Nebraska                 93\n",
       "Nevada                   17\n",
       "New Hampshire            10\n",
       "New Jersey               21\n",
       "New Mexico               32\n",
       "New York                 58\n",
       "North Carolina          100\n",
       "North Dakota             53\n",
       "Ohio                     88\n",
       "Oklahoma                 77\n",
       "Oregon                   36\n",
       "Pennsylvania             67\n",
       "Rhode Island              5\n",
       "South Carolina           46\n",
       "South Dakota             66\n",
       "Tennessee                95\n",
       "Texas                   254\n",
       "Utah                     29\n",
       "Vermont                  14\n",
       "Virginia                123\n",
       "Washington               38\n",
       "West Virginia            55\n",
       "Wisconsin                70\n",
       "Wyoming                  23\n",
       "dtype: int64"
      ]
     },
     "execution_count": 35,
     "metadata": {},
     "output_type": "execute_result"
    }
   ],
   "source": [
    "data_table.groupby(\"STATE_NAME\").size()"
   ]
  },
  {
   "cell_type": "markdown",
   "metadata": {},
   "source": [
    "Or, to get the rows of the table that are in Arizona, we can use the `query` function of the dataframe:"
   ]
  },
  {
   "cell_type": "code",
   "execution_count": 36,
   "metadata": {
    "collapsed": false
   },
   "outputs": [
    {
     "data": {
      "text/html": [
       "<div>\n",
       "<table border=\"1\" class=\"dataframe\">\n",
       "  <thead>\n",
       "    <tr style=\"text-align: right;\">\n",
       "      <th></th>\n",
       "      <th>NAME</th>\n",
       "      <th>STATE_NAME</th>\n",
       "      <th>STATE_FIPS</th>\n",
       "      <th>CNTY_FIPS</th>\n",
       "      <th>FIPS</th>\n",
       "      <th>STFIPS</th>\n",
       "      <th>COFIPS</th>\n",
       "      <th>FIPSNO</th>\n",
       "      <th>SOUTH</th>\n",
       "      <th>HR60</th>\n",
       "      <th>...</th>\n",
       "      <th>BLK90</th>\n",
       "      <th>GI59</th>\n",
       "      <th>GI69</th>\n",
       "      <th>GI79</th>\n",
       "      <th>GI89</th>\n",
       "      <th>FH60</th>\n",
       "      <th>FH70</th>\n",
       "      <th>FH80</th>\n",
       "      <th>FH90</th>\n",
       "      <th>geometry</th>\n",
       "    </tr>\n",
       "  </thead>\n",
       "  <tbody>\n",
       "    <tr>\n",
       "      <th>1707</th>\n",
       "      <td>Navajo</td>\n",
       "      <td>Arizona</td>\n",
       "      <td>04</td>\n",
       "      <td>017</td>\n",
       "      <td>04017</td>\n",
       "      <td>4</td>\n",
       "      <td>17</td>\n",
       "      <td>4017</td>\n",
       "      <td>0</td>\n",
       "      <td>5.263989</td>\n",
       "      <td>...</td>\n",
       "      <td>0.905251</td>\n",
       "      <td>0.366863</td>\n",
       "      <td>0.414135</td>\n",
       "      <td>0.401999</td>\n",
       "      <td>0.445299</td>\n",
       "      <td>13.146998</td>\n",
       "      <td>12.1</td>\n",
       "      <td>13.762783</td>\n",
       "      <td>18.033782</td>\n",
       "      <td>&lt;pysal.cg.shapes.Polygon object at 0x10e280080&gt;</td>\n",
       "    </tr>\n",
       "    <tr>\n",
       "      <th>1708</th>\n",
       "      <td>Coconino</td>\n",
       "      <td>Arizona</td>\n",
       "      <td>04</td>\n",
       "      <td>005</td>\n",
       "      <td>04005</td>\n",
       "      <td>4</td>\n",
       "      <td>5</td>\n",
       "      <td>4005</td>\n",
       "      <td>0</td>\n",
       "      <td>3.185449</td>\n",
       "      <td>...</td>\n",
       "      <td>1.469081</td>\n",
       "      <td>0.301222</td>\n",
       "      <td>0.377785</td>\n",
       "      <td>0.381655</td>\n",
       "      <td>0.403188</td>\n",
       "      <td>9.475171</td>\n",
       "      <td>8.5</td>\n",
       "      <td>11.181563</td>\n",
       "      <td>15.267643</td>\n",
       "      <td>&lt;pysal.cg.shapes.Polygon object at 0x10e2800f0&gt;</td>\n",
       "    </tr>\n",
       "    <tr>\n",
       "      <th>1722</th>\n",
       "      <td>Mohave</td>\n",
       "      <td>Arizona</td>\n",
       "      <td>04</td>\n",
       "      <td>015</td>\n",
       "      <td>04015</td>\n",
       "      <td>4</td>\n",
       "      <td>15</td>\n",
       "      <td>4015</td>\n",
       "      <td>0</td>\n",
       "      <td>0.000000</td>\n",
       "      <td>...</td>\n",
       "      <td>0.324075</td>\n",
       "      <td>0.279339</td>\n",
       "      <td>0.347150</td>\n",
       "      <td>0.375790</td>\n",
       "      <td>0.374383</td>\n",
       "      <td>11.508554</td>\n",
       "      <td>4.8</td>\n",
       "      <td>7.018268</td>\n",
       "      <td>9.214294</td>\n",
       "      <td>&lt;pysal.cg.shapes.Polygon object at 0x10e280710&gt;</td>\n",
       "    </tr>\n",
       "    <tr>\n",
       "      <th>1726</th>\n",
       "      <td>Apache</td>\n",
       "      <td>Arizona</td>\n",
       "      <td>04</td>\n",
       "      <td>001</td>\n",
       "      <td>04001</td>\n",
       "      <td>4</td>\n",
       "      <td>1</td>\n",
       "      <td>4001</td>\n",
       "      <td>0</td>\n",
       "      <td>10.951223</td>\n",
       "      <td>...</td>\n",
       "      <td>0.162361</td>\n",
       "      <td>0.395913</td>\n",
       "      <td>0.450552</td>\n",
       "      <td>0.431013</td>\n",
       "      <td>0.489132</td>\n",
       "      <td>15.014738</td>\n",
       "      <td>14.6</td>\n",
       "      <td>18.727548</td>\n",
       "      <td>22.933635</td>\n",
       "      <td>&lt;pysal.cg.shapes.Polygon object at 0x10e2808d0&gt;</td>\n",
       "    </tr>\n",
       "    <tr>\n",
       "      <th>2002</th>\n",
       "      <td>Yavapai</td>\n",
       "      <td>Arizona</td>\n",
       "      <td>04</td>\n",
       "      <td>025</td>\n",
       "      <td>04025</td>\n",
       "      <td>4</td>\n",
       "      <td>25</td>\n",
       "      <td>4025</td>\n",
       "      <td>0</td>\n",
       "      <td>3.458771</td>\n",
       "      <td>...</td>\n",
       "      <td>0.298011</td>\n",
       "      <td>0.289509</td>\n",
       "      <td>0.378195</td>\n",
       "      <td>0.376313</td>\n",
       "      <td>0.384089</td>\n",
       "      <td>9.930032</td>\n",
       "      <td>8.6</td>\n",
       "      <td>7.516372</td>\n",
       "      <td>9.483521</td>\n",
       "      <td>&lt;pysal.cg.shapes.Polygon object at 0x10e394518&gt;</td>\n",
       "    </tr>\n",
       "    <tr>\n",
       "      <th>2182</th>\n",
       "      <td>Gila</td>\n",
       "      <td>Arizona</td>\n",
       "      <td>04</td>\n",
       "      <td>007</td>\n",
       "      <td>04007</td>\n",
       "      <td>4</td>\n",
       "      <td>7</td>\n",
       "      <td>4007</td>\n",
       "      <td>0</td>\n",
       "      <td>6.473749</td>\n",
       "      <td>...</td>\n",
       "      <td>0.246171</td>\n",
       "      <td>0.265294</td>\n",
       "      <td>0.337519</td>\n",
       "      <td>0.353848</td>\n",
       "      <td>0.386976</td>\n",
       "      <td>10.470261</td>\n",
       "      <td>8.1</td>\n",
       "      <td>9.934237</td>\n",
       "      <td>11.706102</td>\n",
       "      <td>&lt;pysal.cg.shapes.Polygon object at 0x10e4500b8&gt;</td>\n",
       "    </tr>\n",
       "    <tr>\n",
       "      <th>2262</th>\n",
       "      <td>Maricopa</td>\n",
       "      <td>Arizona</td>\n",
       "      <td>04</td>\n",
       "      <td>013</td>\n",
       "      <td>04013</td>\n",
       "      <td>4</td>\n",
       "      <td>13</td>\n",
       "      <td>4013</td>\n",
       "      <td>0</td>\n",
       "      <td>6.179259</td>\n",
       "      <td>...</td>\n",
       "      <td>3.499221</td>\n",
       "      <td>0.277828</td>\n",
       "      <td>0.352374</td>\n",
       "      <td>0.366015</td>\n",
       "      <td>0.372756</td>\n",
       "      <td>10.642382</td>\n",
       "      <td>9.8</td>\n",
       "      <td>11.857260</td>\n",
       "      <td>14.404902</td>\n",
       "      <td>&lt;pysal.cg.shapes.Polygon object at 0x10e49d438&gt;</td>\n",
       "    </tr>\n",
       "    <tr>\n",
       "      <th>2311</th>\n",
       "      <td>Greenlee</td>\n",
       "      <td>Arizona</td>\n",
       "      <td>04</td>\n",
       "      <td>011</td>\n",
       "      <td>04011</td>\n",
       "      <td>4</td>\n",
       "      <td>11</td>\n",
       "      <td>4011</td>\n",
       "      <td>0</td>\n",
       "      <td>2.896284</td>\n",
       "      <td>...</td>\n",
       "      <td>0.349650</td>\n",
       "      <td>0.177691</td>\n",
       "      <td>0.257158</td>\n",
       "      <td>0.283518</td>\n",
       "      <td>0.337256</td>\n",
       "      <td>9.806115</td>\n",
       "      <td>6.7</td>\n",
       "      <td>5.295110</td>\n",
       "      <td>10.453284</td>\n",
       "      <td>&lt;pysal.cg.shapes.Polygon object at 0x10e4c1a58&gt;</td>\n",
       "    </tr>\n",
       "    <tr>\n",
       "      <th>2326</th>\n",
       "      <td>Graham</td>\n",
       "      <td>Arizona</td>\n",
       "      <td>04</td>\n",
       "      <td>009</td>\n",
       "      <td>04009</td>\n",
       "      <td>4</td>\n",
       "      <td>9</td>\n",
       "      <td>4009</td>\n",
       "      <td>0</td>\n",
       "      <td>4.746648</td>\n",
       "      <td>...</td>\n",
       "      <td>1.890487</td>\n",
       "      <td>0.310256</td>\n",
       "      <td>0.362926</td>\n",
       "      <td>0.383554</td>\n",
       "      <td>0.408379</td>\n",
       "      <td>11.979335</td>\n",
       "      <td>10.1</td>\n",
       "      <td>11.961367</td>\n",
       "      <td>16.129032</td>\n",
       "      <td>&lt;pysal.cg.shapes.Polygon object at 0x10e4ea128&gt;</td>\n",
       "    </tr>\n",
       "    <tr>\n",
       "      <th>2353</th>\n",
       "      <td>Pinal</td>\n",
       "      <td>Arizona</td>\n",
       "      <td>04</td>\n",
       "      <td>021</td>\n",
       "      <td>04021</td>\n",
       "      <td>4</td>\n",
       "      <td>21</td>\n",
       "      <td>4021</td>\n",
       "      <td>0</td>\n",
       "      <td>13.828390</td>\n",
       "      <td>...</td>\n",
       "      <td>3.134586</td>\n",
       "      <td>0.304294</td>\n",
       "      <td>0.369974</td>\n",
       "      <td>0.361193</td>\n",
       "      <td>0.400130</td>\n",
       "      <td>10.822965</td>\n",
       "      <td>8.8</td>\n",
       "      <td>10.341699</td>\n",
       "      <td>15.304144</td>\n",
       "      <td>&lt;pysal.cg.shapes.Polygon object at 0x10e4ead68&gt;</td>\n",
       "    </tr>\n",
       "    <tr>\n",
       "      <th>2499</th>\n",
       "      <td>Pima</td>\n",
       "      <td>Arizona</td>\n",
       "      <td>04</td>\n",
       "      <td>019</td>\n",
       "      <td>04019</td>\n",
       "      <td>4</td>\n",
       "      <td>19</td>\n",
       "      <td>4019</td>\n",
       "      <td>0</td>\n",
       "      <td>5.520841</td>\n",
       "      <td>...</td>\n",
       "      <td>3.118252</td>\n",
       "      <td>0.268266</td>\n",
       "      <td>0.367218</td>\n",
       "      <td>0.375039</td>\n",
       "      <td>0.392144</td>\n",
       "      <td>11.381626</td>\n",
       "      <td>10.2</td>\n",
       "      <td>12.689768</td>\n",
       "      <td>16.163178</td>\n",
       "      <td>&lt;pysal.cg.shapes.Polygon object at 0x10e575e80&gt;</td>\n",
       "    </tr>\n",
       "    <tr>\n",
       "      <th>2514</th>\n",
       "      <td>Cochise</td>\n",
       "      <td>Arizona</td>\n",
       "      <td>04</td>\n",
       "      <td>003</td>\n",
       "      <td>04003</td>\n",
       "      <td>4</td>\n",
       "      <td>3</td>\n",
       "      <td>4003</td>\n",
       "      <td>0</td>\n",
       "      <td>4.845049</td>\n",
       "      <td>...</td>\n",
       "      <td>5.201590</td>\n",
       "      <td>0.261208</td>\n",
       "      <td>0.359500</td>\n",
       "      <td>0.359701</td>\n",
       "      <td>0.399208</td>\n",
       "      <td>10.197573</td>\n",
       "      <td>8.7</td>\n",
       "      <td>9.912732</td>\n",
       "      <td>13.733872</td>\n",
       "      <td>&lt;pysal.cg.shapes.Polygon object at 0x10e59b550&gt;</td>\n",
       "    </tr>\n",
       "    <tr>\n",
       "      <th>2615</th>\n",
       "      <td>Santa Cruz</td>\n",
       "      <td>Arizona</td>\n",
       "      <td>04</td>\n",
       "      <td>023</td>\n",
       "      <td>04023</td>\n",
       "      <td>4</td>\n",
       "      <td>23</td>\n",
       "      <td>4023</td>\n",
       "      <td>0</td>\n",
       "      <td>9.252406</td>\n",
       "      <td>...</td>\n",
       "      <td>0.326863</td>\n",
       "      <td>0.327130</td>\n",
       "      <td>0.396807</td>\n",
       "      <td>0.393240</td>\n",
       "      <td>0.413795</td>\n",
       "      <td>19.007213</td>\n",
       "      <td>14.7</td>\n",
       "      <td>15.690913</td>\n",
       "      <td>18.272244</td>\n",
       "      <td>&lt;pysal.cg.shapes.Polygon object at 0x10e60a2e8&gt;</td>\n",
       "    </tr>\n",
       "    <tr>\n",
       "      <th>3080</th>\n",
       "      <td>La Paz</td>\n",
       "      <td>Arizona</td>\n",
       "      <td>04</td>\n",
       "      <td>012</td>\n",
       "      <td>04012</td>\n",
       "      <td>4</td>\n",
       "      <td>12</td>\n",
       "      <td>4012</td>\n",
       "      <td>0</td>\n",
       "      <td>5.046682</td>\n",
       "      <td>...</td>\n",
       "      <td>2.628811</td>\n",
       "      <td>0.271556</td>\n",
       "      <td>0.364110</td>\n",
       "      <td>0.372662</td>\n",
       "      <td>0.405743</td>\n",
       "      <td>9.216414</td>\n",
       "      <td>8.0</td>\n",
       "      <td>9.296093</td>\n",
       "      <td>12.379134</td>\n",
       "      <td>&lt;pysal.cg.shapes.Polygon object at 0x10e79bb70&gt;</td>\n",
       "    </tr>\n",
       "  </tbody>\n",
       "</table>\n",
       "<p>14 rows × 70 columns</p>\n",
       "</div>"
      ],
      "text/plain": [
       "            NAME STATE_NAME STATE_FIPS CNTY_FIPS   FIPS  STFIPS  COFIPS  \\\n",
       "1707      Navajo    Arizona         04       017  04017       4      17   \n",
       "1708    Coconino    Arizona         04       005  04005       4       5   \n",
       "1722      Mohave    Arizona         04       015  04015       4      15   \n",
       "1726      Apache    Arizona         04       001  04001       4       1   \n",
       "2002     Yavapai    Arizona         04       025  04025       4      25   \n",
       "2182        Gila    Arizona         04       007  04007       4       7   \n",
       "2262    Maricopa    Arizona         04       013  04013       4      13   \n",
       "2311    Greenlee    Arizona         04       011  04011       4      11   \n",
       "2326      Graham    Arizona         04       009  04009       4       9   \n",
       "2353       Pinal    Arizona         04       021  04021       4      21   \n",
       "2499        Pima    Arizona         04       019  04019       4      19   \n",
       "2514     Cochise    Arizona         04       003  04003       4       3   \n",
       "2615  Santa Cruz    Arizona         04       023  04023       4      23   \n",
       "3080      La Paz    Arizona         04       012  04012       4      12   \n",
       "\n",
       "      FIPSNO  SOUTH       HR60  \\\n",
       "1707    4017      0   5.263989   \n",
       "1708    4005      0   3.185449   \n",
       "1722    4015      0   0.000000   \n",
       "1726    4001      0  10.951223   \n",
       "2002    4025      0   3.458771   \n",
       "2182    4007      0   6.473749   \n",
       "2262    4013      0   6.179259   \n",
       "2311    4011      0   2.896284   \n",
       "2326    4009      0   4.746648   \n",
       "2353    4021      0  13.828390   \n",
       "2499    4019      0   5.520841   \n",
       "2514    4003      0   4.845049   \n",
       "2615    4023      0   9.252406   \n",
       "3080    4012      0   5.046682   \n",
       "\n",
       "                           ...                            BLK90      GI59  \\\n",
       "1707                       ...                         0.905251  0.366863   \n",
       "1708                       ...                         1.469081  0.301222   \n",
       "1722                       ...                         0.324075  0.279339   \n",
       "1726                       ...                         0.162361  0.395913   \n",
       "2002                       ...                         0.298011  0.289509   \n",
       "2182                       ...                         0.246171  0.265294   \n",
       "2262                       ...                         3.499221  0.277828   \n",
       "2311                       ...                         0.349650  0.177691   \n",
       "2326                       ...                         1.890487  0.310256   \n",
       "2353                       ...                         3.134586  0.304294   \n",
       "2499                       ...                         3.118252  0.268266   \n",
       "2514                       ...                         5.201590  0.261208   \n",
       "2615                       ...                         0.326863  0.327130   \n",
       "3080                       ...                         2.628811  0.271556   \n",
       "\n",
       "          GI69      GI79      GI89       FH60  FH70       FH80       FH90  \\\n",
       "1707  0.414135  0.401999  0.445299  13.146998  12.1  13.762783  18.033782   \n",
       "1708  0.377785  0.381655  0.403188   9.475171   8.5  11.181563  15.267643   \n",
       "1722  0.347150  0.375790  0.374383  11.508554   4.8   7.018268   9.214294   \n",
       "1726  0.450552  0.431013  0.489132  15.014738  14.6  18.727548  22.933635   \n",
       "2002  0.378195  0.376313  0.384089   9.930032   8.6   7.516372   9.483521   \n",
       "2182  0.337519  0.353848  0.386976  10.470261   8.1   9.934237  11.706102   \n",
       "2262  0.352374  0.366015  0.372756  10.642382   9.8  11.857260  14.404902   \n",
       "2311  0.257158  0.283518  0.337256   9.806115   6.7   5.295110  10.453284   \n",
       "2326  0.362926  0.383554  0.408379  11.979335  10.1  11.961367  16.129032   \n",
       "2353  0.369974  0.361193  0.400130  10.822965   8.8  10.341699  15.304144   \n",
       "2499  0.367218  0.375039  0.392144  11.381626  10.2  12.689768  16.163178   \n",
       "2514  0.359500  0.359701  0.399208  10.197573   8.7   9.912732  13.733872   \n",
       "2615  0.396807  0.393240  0.413795  19.007213  14.7  15.690913  18.272244   \n",
       "3080  0.364110  0.372662  0.405743   9.216414   8.0   9.296093  12.379134   \n",
       "\n",
       "                                             geometry  \n",
       "1707  <pysal.cg.shapes.Polygon object at 0x10e280080>  \n",
       "1708  <pysal.cg.shapes.Polygon object at 0x10e2800f0>  \n",
       "1722  <pysal.cg.shapes.Polygon object at 0x10e280710>  \n",
       "1726  <pysal.cg.shapes.Polygon object at 0x10e2808d0>  \n",
       "2002  <pysal.cg.shapes.Polygon object at 0x10e394518>  \n",
       "2182  <pysal.cg.shapes.Polygon object at 0x10e4500b8>  \n",
       "2262  <pysal.cg.shapes.Polygon object at 0x10e49d438>  \n",
       "2311  <pysal.cg.shapes.Polygon object at 0x10e4c1a58>  \n",
       "2326  <pysal.cg.shapes.Polygon object at 0x10e4ea128>  \n",
       "2353  <pysal.cg.shapes.Polygon object at 0x10e4ead68>  \n",
       "2499  <pysal.cg.shapes.Polygon object at 0x10e575e80>  \n",
       "2514  <pysal.cg.shapes.Polygon object at 0x10e59b550>  \n",
       "2615  <pysal.cg.shapes.Polygon object at 0x10e60a2e8>  \n",
       "3080  <pysal.cg.shapes.Polygon object at 0x10e79bb70>  \n",
       "\n",
       "[14 rows x 70 columns]"
      ]
     },
     "execution_count": 36,
     "metadata": {},
     "output_type": "execute_result"
    }
   ],
   "source": [
    "data_table.query('STATE_NAME == \"Arizona\"')"
   ]
  },
  {
   "cell_type": "markdown",
   "metadata": {},
   "source": [
    "Behind the scenes, this uses a fast vectorized library, `numexpr`, to essentially do the following. \n",
    "\n",
    "First, compare each row's `STATE_NAME` column to `'Arizona'` and return `True` if the row matches:"
   ]
  },
  {
   "cell_type": "code",
   "execution_count": 37,
   "metadata": {
    "collapsed": false
   },
   "outputs": [
    {
     "data": {
      "text/plain": [
       "0       False\n",
       "1       False\n",
       "2       False\n",
       "3       False\n",
       "4       False\n",
       "5       False\n",
       "6       False\n",
       "7       False\n",
       "8       False\n",
       "9       False\n",
       "10      False\n",
       "11      False\n",
       "12      False\n",
       "13      False\n",
       "14      False\n",
       "15      False\n",
       "16      False\n",
       "17      False\n",
       "18      False\n",
       "19      False\n",
       "20      False\n",
       "21      False\n",
       "22      False\n",
       "23      False\n",
       "24      False\n",
       "25      False\n",
       "26      False\n",
       "27      False\n",
       "28      False\n",
       "29      False\n",
       "        ...  \n",
       "3055    False\n",
       "3056    False\n",
       "3057    False\n",
       "3058    False\n",
       "3059    False\n",
       "3060    False\n",
       "3061    False\n",
       "3062    False\n",
       "3063    False\n",
       "3064    False\n",
       "3065    False\n",
       "3066    False\n",
       "3067    False\n",
       "3068    False\n",
       "3069    False\n",
       "3070    False\n",
       "3071    False\n",
       "3072    False\n",
       "3073    False\n",
       "3074    False\n",
       "3075    False\n",
       "3076    False\n",
       "3077    False\n",
       "3078    False\n",
       "3079    False\n",
       "3080     True\n",
       "3081    False\n",
       "3082    False\n",
       "3083    False\n",
       "3084    False\n",
       "Name: STATE_NAME, dtype: bool"
      ]
     },
     "execution_count": 37,
     "metadata": {},
     "output_type": "execute_result"
    }
   ],
   "source": [
    "data_table.STATE_NAME == 'Arizona'"
   ]
  },
  {
   "cell_type": "markdown",
   "metadata": {},
   "source": [
    "Then, use that to filter out rows where the condition is true:"
   ]
  },
  {
   "cell_type": "code",
   "execution_count": 38,
   "metadata": {
    "collapsed": false
   },
   "outputs": [
    {
     "data": {
      "text/html": [
       "<div>\n",
       "<table border=\"1\" class=\"dataframe\">\n",
       "  <thead>\n",
       "    <tr style=\"text-align: right;\">\n",
       "      <th></th>\n",
       "      <th>NAME</th>\n",
       "      <th>STATE_NAME</th>\n",
       "      <th>STATE_FIPS</th>\n",
       "      <th>CNTY_FIPS</th>\n",
       "      <th>FIPS</th>\n",
       "      <th>STFIPS</th>\n",
       "      <th>COFIPS</th>\n",
       "      <th>FIPSNO</th>\n",
       "      <th>SOUTH</th>\n",
       "      <th>HR60</th>\n",
       "      <th>...</th>\n",
       "      <th>BLK90</th>\n",
       "      <th>GI59</th>\n",
       "      <th>GI69</th>\n",
       "      <th>GI79</th>\n",
       "      <th>GI89</th>\n",
       "      <th>FH60</th>\n",
       "      <th>FH70</th>\n",
       "      <th>FH80</th>\n",
       "      <th>FH90</th>\n",
       "      <th>geometry</th>\n",
       "    </tr>\n",
       "  </thead>\n",
       "  <tbody>\n",
       "    <tr>\n",
       "      <th>1707</th>\n",
       "      <td>Navajo</td>\n",
       "      <td>Arizona</td>\n",
       "      <td>04</td>\n",
       "      <td>017</td>\n",
       "      <td>04017</td>\n",
       "      <td>4</td>\n",
       "      <td>17</td>\n",
       "      <td>4017</td>\n",
       "      <td>0</td>\n",
       "      <td>5.263989</td>\n",
       "      <td>...</td>\n",
       "      <td>0.905251</td>\n",
       "      <td>0.366863</td>\n",
       "      <td>0.414135</td>\n",
       "      <td>0.401999</td>\n",
       "      <td>0.445299</td>\n",
       "      <td>13.146998</td>\n",
       "      <td>12.1</td>\n",
       "      <td>13.762783</td>\n",
       "      <td>18.033782</td>\n",
       "      <td>&lt;pysal.cg.shapes.Polygon object at 0x10e280080&gt;</td>\n",
       "    </tr>\n",
       "    <tr>\n",
       "      <th>1708</th>\n",
       "      <td>Coconino</td>\n",
       "      <td>Arizona</td>\n",
       "      <td>04</td>\n",
       "      <td>005</td>\n",
       "      <td>04005</td>\n",
       "      <td>4</td>\n",
       "      <td>5</td>\n",
       "      <td>4005</td>\n",
       "      <td>0</td>\n",
       "      <td>3.185449</td>\n",
       "      <td>...</td>\n",
       "      <td>1.469081</td>\n",
       "      <td>0.301222</td>\n",
       "      <td>0.377785</td>\n",
       "      <td>0.381655</td>\n",
       "      <td>0.403188</td>\n",
       "      <td>9.475171</td>\n",
       "      <td>8.5</td>\n",
       "      <td>11.181563</td>\n",
       "      <td>15.267643</td>\n",
       "      <td>&lt;pysal.cg.shapes.Polygon object at 0x10e2800f0&gt;</td>\n",
       "    </tr>\n",
       "    <tr>\n",
       "      <th>1722</th>\n",
       "      <td>Mohave</td>\n",
       "      <td>Arizona</td>\n",
       "      <td>04</td>\n",
       "      <td>015</td>\n",
       "      <td>04015</td>\n",
       "      <td>4</td>\n",
       "      <td>15</td>\n",
       "      <td>4015</td>\n",
       "      <td>0</td>\n",
       "      <td>0.000000</td>\n",
       "      <td>...</td>\n",
       "      <td>0.324075</td>\n",
       "      <td>0.279339</td>\n",
       "      <td>0.347150</td>\n",
       "      <td>0.375790</td>\n",
       "      <td>0.374383</td>\n",
       "      <td>11.508554</td>\n",
       "      <td>4.8</td>\n",
       "      <td>7.018268</td>\n",
       "      <td>9.214294</td>\n",
       "      <td>&lt;pysal.cg.shapes.Polygon object at 0x10e280710&gt;</td>\n",
       "    </tr>\n",
       "    <tr>\n",
       "      <th>1726</th>\n",
       "      <td>Apache</td>\n",
       "      <td>Arizona</td>\n",
       "      <td>04</td>\n",
       "      <td>001</td>\n",
       "      <td>04001</td>\n",
       "      <td>4</td>\n",
       "      <td>1</td>\n",
       "      <td>4001</td>\n",
       "      <td>0</td>\n",
       "      <td>10.951223</td>\n",
       "      <td>...</td>\n",
       "      <td>0.162361</td>\n",
       "      <td>0.395913</td>\n",
       "      <td>0.450552</td>\n",
       "      <td>0.431013</td>\n",
       "      <td>0.489132</td>\n",
       "      <td>15.014738</td>\n",
       "      <td>14.6</td>\n",
       "      <td>18.727548</td>\n",
       "      <td>22.933635</td>\n",
       "      <td>&lt;pysal.cg.shapes.Polygon object at 0x10e2808d0&gt;</td>\n",
       "    </tr>\n",
       "    <tr>\n",
       "      <th>2002</th>\n",
       "      <td>Yavapai</td>\n",
       "      <td>Arizona</td>\n",
       "      <td>04</td>\n",
       "      <td>025</td>\n",
       "      <td>04025</td>\n",
       "      <td>4</td>\n",
       "      <td>25</td>\n",
       "      <td>4025</td>\n",
       "      <td>0</td>\n",
       "      <td>3.458771</td>\n",
       "      <td>...</td>\n",
       "      <td>0.298011</td>\n",
       "      <td>0.289509</td>\n",
       "      <td>0.378195</td>\n",
       "      <td>0.376313</td>\n",
       "      <td>0.384089</td>\n",
       "      <td>9.930032</td>\n",
       "      <td>8.6</td>\n",
       "      <td>7.516372</td>\n",
       "      <td>9.483521</td>\n",
       "      <td>&lt;pysal.cg.shapes.Polygon object at 0x10e394518&gt;</td>\n",
       "    </tr>\n",
       "    <tr>\n",
       "      <th>2182</th>\n",
       "      <td>Gila</td>\n",
       "      <td>Arizona</td>\n",
       "      <td>04</td>\n",
       "      <td>007</td>\n",
       "      <td>04007</td>\n",
       "      <td>4</td>\n",
       "      <td>7</td>\n",
       "      <td>4007</td>\n",
       "      <td>0</td>\n",
       "      <td>6.473749</td>\n",
       "      <td>...</td>\n",
       "      <td>0.246171</td>\n",
       "      <td>0.265294</td>\n",
       "      <td>0.337519</td>\n",
       "      <td>0.353848</td>\n",
       "      <td>0.386976</td>\n",
       "      <td>10.470261</td>\n",
       "      <td>8.1</td>\n",
       "      <td>9.934237</td>\n",
       "      <td>11.706102</td>\n",
       "      <td>&lt;pysal.cg.shapes.Polygon object at 0x10e4500b8&gt;</td>\n",
       "    </tr>\n",
       "    <tr>\n",
       "      <th>2262</th>\n",
       "      <td>Maricopa</td>\n",
       "      <td>Arizona</td>\n",
       "      <td>04</td>\n",
       "      <td>013</td>\n",
       "      <td>04013</td>\n",
       "      <td>4</td>\n",
       "      <td>13</td>\n",
       "      <td>4013</td>\n",
       "      <td>0</td>\n",
       "      <td>6.179259</td>\n",
       "      <td>...</td>\n",
       "      <td>3.499221</td>\n",
       "      <td>0.277828</td>\n",
       "      <td>0.352374</td>\n",
       "      <td>0.366015</td>\n",
       "      <td>0.372756</td>\n",
       "      <td>10.642382</td>\n",
       "      <td>9.8</td>\n",
       "      <td>11.857260</td>\n",
       "      <td>14.404902</td>\n",
       "      <td>&lt;pysal.cg.shapes.Polygon object at 0x10e49d438&gt;</td>\n",
       "    </tr>\n",
       "    <tr>\n",
       "      <th>2311</th>\n",
       "      <td>Greenlee</td>\n",
       "      <td>Arizona</td>\n",
       "      <td>04</td>\n",
       "      <td>011</td>\n",
       "      <td>04011</td>\n",
       "      <td>4</td>\n",
       "      <td>11</td>\n",
       "      <td>4011</td>\n",
       "      <td>0</td>\n",
       "      <td>2.896284</td>\n",
       "      <td>...</td>\n",
       "      <td>0.349650</td>\n",
       "      <td>0.177691</td>\n",
       "      <td>0.257158</td>\n",
       "      <td>0.283518</td>\n",
       "      <td>0.337256</td>\n",
       "      <td>9.806115</td>\n",
       "      <td>6.7</td>\n",
       "      <td>5.295110</td>\n",
       "      <td>10.453284</td>\n",
       "      <td>&lt;pysal.cg.shapes.Polygon object at 0x10e4c1a58&gt;</td>\n",
       "    </tr>\n",
       "    <tr>\n",
       "      <th>2326</th>\n",
       "      <td>Graham</td>\n",
       "      <td>Arizona</td>\n",
       "      <td>04</td>\n",
       "      <td>009</td>\n",
       "      <td>04009</td>\n",
       "      <td>4</td>\n",
       "      <td>9</td>\n",
       "      <td>4009</td>\n",
       "      <td>0</td>\n",
       "      <td>4.746648</td>\n",
       "      <td>...</td>\n",
       "      <td>1.890487</td>\n",
       "      <td>0.310256</td>\n",
       "      <td>0.362926</td>\n",
       "      <td>0.383554</td>\n",
       "      <td>0.408379</td>\n",
       "      <td>11.979335</td>\n",
       "      <td>10.1</td>\n",
       "      <td>11.961367</td>\n",
       "      <td>16.129032</td>\n",
       "      <td>&lt;pysal.cg.shapes.Polygon object at 0x10e4ea128&gt;</td>\n",
       "    </tr>\n",
       "    <tr>\n",
       "      <th>2353</th>\n",
       "      <td>Pinal</td>\n",
       "      <td>Arizona</td>\n",
       "      <td>04</td>\n",
       "      <td>021</td>\n",
       "      <td>04021</td>\n",
       "      <td>4</td>\n",
       "      <td>21</td>\n",
       "      <td>4021</td>\n",
       "      <td>0</td>\n",
       "      <td>13.828390</td>\n",
       "      <td>...</td>\n",
       "      <td>3.134586</td>\n",
       "      <td>0.304294</td>\n",
       "      <td>0.369974</td>\n",
       "      <td>0.361193</td>\n",
       "      <td>0.400130</td>\n",
       "      <td>10.822965</td>\n",
       "      <td>8.8</td>\n",
       "      <td>10.341699</td>\n",
       "      <td>15.304144</td>\n",
       "      <td>&lt;pysal.cg.shapes.Polygon object at 0x10e4ead68&gt;</td>\n",
       "    </tr>\n",
       "    <tr>\n",
       "      <th>2499</th>\n",
       "      <td>Pima</td>\n",
       "      <td>Arizona</td>\n",
       "      <td>04</td>\n",
       "      <td>019</td>\n",
       "      <td>04019</td>\n",
       "      <td>4</td>\n",
       "      <td>19</td>\n",
       "      <td>4019</td>\n",
       "      <td>0</td>\n",
       "      <td>5.520841</td>\n",
       "      <td>...</td>\n",
       "      <td>3.118252</td>\n",
       "      <td>0.268266</td>\n",
       "      <td>0.367218</td>\n",
       "      <td>0.375039</td>\n",
       "      <td>0.392144</td>\n",
       "      <td>11.381626</td>\n",
       "      <td>10.2</td>\n",
       "      <td>12.689768</td>\n",
       "      <td>16.163178</td>\n",
       "      <td>&lt;pysal.cg.shapes.Polygon object at 0x10e575e80&gt;</td>\n",
       "    </tr>\n",
       "    <tr>\n",
       "      <th>2514</th>\n",
       "      <td>Cochise</td>\n",
       "      <td>Arizona</td>\n",
       "      <td>04</td>\n",
       "      <td>003</td>\n",
       "      <td>04003</td>\n",
       "      <td>4</td>\n",
       "      <td>3</td>\n",
       "      <td>4003</td>\n",
       "      <td>0</td>\n",
       "      <td>4.845049</td>\n",
       "      <td>...</td>\n",
       "      <td>5.201590</td>\n",
       "      <td>0.261208</td>\n",
       "      <td>0.359500</td>\n",
       "      <td>0.359701</td>\n",
       "      <td>0.399208</td>\n",
       "      <td>10.197573</td>\n",
       "      <td>8.7</td>\n",
       "      <td>9.912732</td>\n",
       "      <td>13.733872</td>\n",
       "      <td>&lt;pysal.cg.shapes.Polygon object at 0x10e59b550&gt;</td>\n",
       "    </tr>\n",
       "    <tr>\n",
       "      <th>2615</th>\n",
       "      <td>Santa Cruz</td>\n",
       "      <td>Arizona</td>\n",
       "      <td>04</td>\n",
       "      <td>023</td>\n",
       "      <td>04023</td>\n",
       "      <td>4</td>\n",
       "      <td>23</td>\n",
       "      <td>4023</td>\n",
       "      <td>0</td>\n",
       "      <td>9.252406</td>\n",
       "      <td>...</td>\n",
       "      <td>0.326863</td>\n",
       "      <td>0.327130</td>\n",
       "      <td>0.396807</td>\n",
       "      <td>0.393240</td>\n",
       "      <td>0.413795</td>\n",
       "      <td>19.007213</td>\n",
       "      <td>14.7</td>\n",
       "      <td>15.690913</td>\n",
       "      <td>18.272244</td>\n",
       "      <td>&lt;pysal.cg.shapes.Polygon object at 0x10e60a2e8&gt;</td>\n",
       "    </tr>\n",
       "    <tr>\n",
       "      <th>3080</th>\n",
       "      <td>La Paz</td>\n",
       "      <td>Arizona</td>\n",
       "      <td>04</td>\n",
       "      <td>012</td>\n",
       "      <td>04012</td>\n",
       "      <td>4</td>\n",
       "      <td>12</td>\n",
       "      <td>4012</td>\n",
       "      <td>0</td>\n",
       "      <td>5.046682</td>\n",
       "      <td>...</td>\n",
       "      <td>2.628811</td>\n",
       "      <td>0.271556</td>\n",
       "      <td>0.364110</td>\n",
       "      <td>0.372662</td>\n",
       "      <td>0.405743</td>\n",
       "      <td>9.216414</td>\n",
       "      <td>8.0</td>\n",
       "      <td>9.296093</td>\n",
       "      <td>12.379134</td>\n",
       "      <td>&lt;pysal.cg.shapes.Polygon object at 0x10e79bb70&gt;</td>\n",
       "    </tr>\n",
       "  </tbody>\n",
       "</table>\n",
       "<p>14 rows × 70 columns</p>\n",
       "</div>"
      ],
      "text/plain": [
       "            NAME STATE_NAME STATE_FIPS CNTY_FIPS   FIPS  STFIPS  COFIPS  \\\n",
       "1707      Navajo    Arizona         04       017  04017       4      17   \n",
       "1708    Coconino    Arizona         04       005  04005       4       5   \n",
       "1722      Mohave    Arizona         04       015  04015       4      15   \n",
       "1726      Apache    Arizona         04       001  04001       4       1   \n",
       "2002     Yavapai    Arizona         04       025  04025       4      25   \n",
       "2182        Gila    Arizona         04       007  04007       4       7   \n",
       "2262    Maricopa    Arizona         04       013  04013       4      13   \n",
       "2311    Greenlee    Arizona         04       011  04011       4      11   \n",
       "2326      Graham    Arizona         04       009  04009       4       9   \n",
       "2353       Pinal    Arizona         04       021  04021       4      21   \n",
       "2499        Pima    Arizona         04       019  04019       4      19   \n",
       "2514     Cochise    Arizona         04       003  04003       4       3   \n",
       "2615  Santa Cruz    Arizona         04       023  04023       4      23   \n",
       "3080      La Paz    Arizona         04       012  04012       4      12   \n",
       "\n",
       "      FIPSNO  SOUTH       HR60  \\\n",
       "1707    4017      0   5.263989   \n",
       "1708    4005      0   3.185449   \n",
       "1722    4015      0   0.000000   \n",
       "1726    4001      0  10.951223   \n",
       "2002    4025      0   3.458771   \n",
       "2182    4007      0   6.473749   \n",
       "2262    4013      0   6.179259   \n",
       "2311    4011      0   2.896284   \n",
       "2326    4009      0   4.746648   \n",
       "2353    4021      0  13.828390   \n",
       "2499    4019      0   5.520841   \n",
       "2514    4003      0   4.845049   \n",
       "2615    4023      0   9.252406   \n",
       "3080    4012      0   5.046682   \n",
       "\n",
       "                           ...                            BLK90      GI59  \\\n",
       "1707                       ...                         0.905251  0.366863   \n",
       "1708                       ...                         1.469081  0.301222   \n",
       "1722                       ...                         0.324075  0.279339   \n",
       "1726                       ...                         0.162361  0.395913   \n",
       "2002                       ...                         0.298011  0.289509   \n",
       "2182                       ...                         0.246171  0.265294   \n",
       "2262                       ...                         3.499221  0.277828   \n",
       "2311                       ...                         0.349650  0.177691   \n",
       "2326                       ...                         1.890487  0.310256   \n",
       "2353                       ...                         3.134586  0.304294   \n",
       "2499                       ...                         3.118252  0.268266   \n",
       "2514                       ...                         5.201590  0.261208   \n",
       "2615                       ...                         0.326863  0.327130   \n",
       "3080                       ...                         2.628811  0.271556   \n",
       "\n",
       "          GI69      GI79      GI89       FH60  FH70       FH80       FH90  \\\n",
       "1707  0.414135  0.401999  0.445299  13.146998  12.1  13.762783  18.033782   \n",
       "1708  0.377785  0.381655  0.403188   9.475171   8.5  11.181563  15.267643   \n",
       "1722  0.347150  0.375790  0.374383  11.508554   4.8   7.018268   9.214294   \n",
       "1726  0.450552  0.431013  0.489132  15.014738  14.6  18.727548  22.933635   \n",
       "2002  0.378195  0.376313  0.384089   9.930032   8.6   7.516372   9.483521   \n",
       "2182  0.337519  0.353848  0.386976  10.470261   8.1   9.934237  11.706102   \n",
       "2262  0.352374  0.366015  0.372756  10.642382   9.8  11.857260  14.404902   \n",
       "2311  0.257158  0.283518  0.337256   9.806115   6.7   5.295110  10.453284   \n",
       "2326  0.362926  0.383554  0.408379  11.979335  10.1  11.961367  16.129032   \n",
       "2353  0.369974  0.361193  0.400130  10.822965   8.8  10.341699  15.304144   \n",
       "2499  0.367218  0.375039  0.392144  11.381626  10.2  12.689768  16.163178   \n",
       "2514  0.359500  0.359701  0.399208  10.197573   8.7   9.912732  13.733872   \n",
       "2615  0.396807  0.393240  0.413795  19.007213  14.7  15.690913  18.272244   \n",
       "3080  0.364110  0.372662  0.405743   9.216414   8.0   9.296093  12.379134   \n",
       "\n",
       "                                             geometry  \n",
       "1707  <pysal.cg.shapes.Polygon object at 0x10e280080>  \n",
       "1708  <pysal.cg.shapes.Polygon object at 0x10e2800f0>  \n",
       "1722  <pysal.cg.shapes.Polygon object at 0x10e280710>  \n",
       "1726  <pysal.cg.shapes.Polygon object at 0x10e2808d0>  \n",
       "2002  <pysal.cg.shapes.Polygon object at 0x10e394518>  \n",
       "2182  <pysal.cg.shapes.Polygon object at 0x10e4500b8>  \n",
       "2262  <pysal.cg.shapes.Polygon object at 0x10e49d438>  \n",
       "2311  <pysal.cg.shapes.Polygon object at 0x10e4c1a58>  \n",
       "2326  <pysal.cg.shapes.Polygon object at 0x10e4ea128>  \n",
       "2353  <pysal.cg.shapes.Polygon object at 0x10e4ead68>  \n",
       "2499  <pysal.cg.shapes.Polygon object at 0x10e575e80>  \n",
       "2514  <pysal.cg.shapes.Polygon object at 0x10e59b550>  \n",
       "2615  <pysal.cg.shapes.Polygon object at 0x10e60a2e8>  \n",
       "3080  <pysal.cg.shapes.Polygon object at 0x10e79bb70>  \n",
       "\n",
       "[14 rows x 70 columns]"
      ]
     },
     "execution_count": 38,
     "metadata": {},
     "output_type": "execute_result"
    }
   ],
   "source": [
    "data_table[data_table.STATE_NAME == 'Arizona']"
   ]
  },
  {
   "cell_type": "markdown",
   "metadata": {},
   "source": [
    "We might need this behind the scenes knowledge when we want to chain together conditions, or when we need to do spatial queries. \n",
    "\n",
    "This is because spatial queries are somewhat more complex. Let's say, for example, we want all of the counties in the US to the West of `-121` longitude. We need a way to express that question. Ideally, we want something like:\n",
    "\n",
    "```\n",
    "SELECT\n",
    "        *\n",
    "FROM\n",
    "        data_table\n",
    "WHERE\n",
    "        x_centroid < -121\n",
    "```"
   ]
  },
  {
   "cell_type": "markdown",
   "metadata": {},
   "source": [
    "So, let's refer to an arbitrary polygon in the the dataframe's geometry column as `poly`. The centroid of a PySAL polygon is stored as an `(X,Y)` pair, so the longitude is the first element of the pair, `poly.centroid[0]`. \n",
    "\n",
    "Then, applying this condition to each geometry, we get the same kind of filter we used above to grab only counties in Arizona:"
   ]
  },
  {
   "cell_type": "code",
   "execution_count": 65,
   "metadata": {
    "collapsed": false
   },
   "outputs": [
    {
     "data": {
      "text/plain": [
       "0    False\n",
       "1    False\n",
       "2    False\n",
       "3    False\n",
       "4    False\n",
       "Name: geometry, dtype: bool"
      ]
     },
     "execution_count": 65,
     "metadata": {},
     "output_type": "execute_result"
    }
   ],
   "source": [
    "data_table.geometry.apply(lambda x: x.centroid[0] < -121)\\\n",
    "                   .head()"
   ]
  },
  {
   "cell_type": "markdown",
   "metadata": {},
   "source": [
    "If we use this as a filter on the table, we can get only the rows that match that condition, just like we did for the `STATE_NAME` query:"
   ]
  },
  {
   "cell_type": "code",
   "execution_count": 40,
   "metadata": {
    "collapsed": false
   },
   "outputs": [
    {
     "data": {
      "text/html": [
       "<div>\n",
       "<table border=\"1\" class=\"dataframe\">\n",
       "  <thead>\n",
       "    <tr style=\"text-align: right;\">\n",
       "      <th></th>\n",
       "      <th>NAME</th>\n",
       "      <th>STATE_NAME</th>\n",
       "      <th>STATE_FIPS</th>\n",
       "      <th>CNTY_FIPS</th>\n",
       "      <th>FIPS</th>\n",
       "      <th>STFIPS</th>\n",
       "      <th>COFIPS</th>\n",
       "      <th>FIPSNO</th>\n",
       "      <th>SOUTH</th>\n",
       "      <th>HR60</th>\n",
       "      <th>...</th>\n",
       "      <th>BLK90</th>\n",
       "      <th>GI59</th>\n",
       "      <th>GI69</th>\n",
       "      <th>GI79</th>\n",
       "      <th>GI89</th>\n",
       "      <th>FH60</th>\n",
       "      <th>FH70</th>\n",
       "      <th>FH80</th>\n",
       "      <th>FH90</th>\n",
       "      <th>geometry</th>\n",
       "    </tr>\n",
       "  </thead>\n",
       "  <tbody>\n",
       "    <tr>\n",
       "      <th>3</th>\n",
       "      <td>Okanogan</td>\n",
       "      <td>Washington</td>\n",
       "      <td>53</td>\n",
       "      <td>047</td>\n",
       "      <td>53047</td>\n",
       "      <td>53</td>\n",
       "      <td>47</td>\n",
       "      <td>53047</td>\n",
       "      <td>0</td>\n",
       "      <td>2.612330</td>\n",
       "      <td>...</td>\n",
       "      <td>0.155922</td>\n",
       "      <td>0.258540</td>\n",
       "      <td>0.371218</td>\n",
       "      <td>0.381240</td>\n",
       "      <td>0.394519</td>\n",
       "      <td>9.039900</td>\n",
       "      <td>8.1</td>\n",
       "      <td>10.084926</td>\n",
       "      <td>12.840340</td>\n",
       "      <td>&lt;pysal.cg.shapes.Polygon object at 0x10dadd5c0&gt;</td>\n",
       "    </tr>\n",
       "    <tr>\n",
       "      <th>27</th>\n",
       "      <td>Whatcom</td>\n",
       "      <td>Washington</td>\n",
       "      <td>53</td>\n",
       "      <td>073</td>\n",
       "      <td>53073</td>\n",
       "      <td>53</td>\n",
       "      <td>73</td>\n",
       "      <td>53073</td>\n",
       "      <td>0</td>\n",
       "      <td>1.422131</td>\n",
       "      <td>...</td>\n",
       "      <td>0.508687</td>\n",
       "      <td>0.247630</td>\n",
       "      <td>0.346935</td>\n",
       "      <td>0.369436</td>\n",
       "      <td>0.358418</td>\n",
       "      <td>9.174415</td>\n",
       "      <td>7.1</td>\n",
       "      <td>9.718054</td>\n",
       "      <td>11.135022</td>\n",
       "      <td>&lt;pysal.cg.shapes.Polygon object at 0x10df05080&gt;</td>\n",
       "    </tr>\n",
       "    <tr>\n",
       "      <th>31</th>\n",
       "      <td>Skagit</td>\n",
       "      <td>Washington</td>\n",
       "      <td>53</td>\n",
       "      <td>057</td>\n",
       "      <td>53057</td>\n",
       "      <td>53</td>\n",
       "      <td>57</td>\n",
       "      <td>53057</td>\n",
       "      <td>0</td>\n",
       "      <td>2.596560</td>\n",
       "      <td>...</td>\n",
       "      <td>0.351958</td>\n",
       "      <td>0.239346</td>\n",
       "      <td>0.344830</td>\n",
       "      <td>0.364623</td>\n",
       "      <td>0.362265</td>\n",
       "      <td>8.611518</td>\n",
       "      <td>7.9</td>\n",
       "      <td>10.480031</td>\n",
       "      <td>11.382484</td>\n",
       "      <td>&lt;pysal.cg.shapes.Polygon object at 0x10df05240&gt;</td>\n",
       "    </tr>\n",
       "    <tr>\n",
       "      <th>42</th>\n",
       "      <td>Chelan</td>\n",
       "      <td>Washington</td>\n",
       "      <td>53</td>\n",
       "      <td>007</td>\n",
       "      <td>53007</td>\n",
       "      <td>53</td>\n",
       "      <td>7</td>\n",
       "      <td>53007</td>\n",
       "      <td>0</td>\n",
       "      <td>4.908698</td>\n",
       "      <td>...</td>\n",
       "      <td>0.153110</td>\n",
       "      <td>0.246292</td>\n",
       "      <td>0.367681</td>\n",
       "      <td>0.374505</td>\n",
       "      <td>0.383486</td>\n",
       "      <td>8.787907</td>\n",
       "      <td>8.1</td>\n",
       "      <td>9.968454</td>\n",
       "      <td>12.236493</td>\n",
       "      <td>&lt;pysal.cg.shapes.Polygon object at 0x10df05710&gt;</td>\n",
       "    </tr>\n",
       "    <tr>\n",
       "      <th>44</th>\n",
       "      <td>Clallam</td>\n",
       "      <td>Washington</td>\n",
       "      <td>53</td>\n",
       "      <td>009</td>\n",
       "      <td>53009</td>\n",
       "      <td>53</td>\n",
       "      <td>9</td>\n",
       "      <td>53009</td>\n",
       "      <td>0</td>\n",
       "      <td>3.330891</td>\n",
       "      <td>...</td>\n",
       "      <td>0.568504</td>\n",
       "      <td>0.240573</td>\n",
       "      <td>0.349320</td>\n",
       "      <td>0.361619</td>\n",
       "      <td>0.366854</td>\n",
       "      <td>8.788882</td>\n",
       "      <td>6.5</td>\n",
       "      <td>9.660900</td>\n",
       "      <td>12.281690</td>\n",
       "      <td>&lt;pysal.cg.shapes.Polygon object at 0x10df057f0&gt;</td>\n",
       "    </tr>\n",
       "  </tbody>\n",
       "</table>\n",
       "<p>5 rows × 70 columns</p>\n",
       "</div>"
      ],
      "text/plain": [
       "        NAME  STATE_NAME STATE_FIPS CNTY_FIPS   FIPS  STFIPS  COFIPS  FIPSNO  \\\n",
       "3   Okanogan  Washington         53       047  53047      53      47   53047   \n",
       "27   Whatcom  Washington         53       073  53073      53      73   53073   \n",
       "31    Skagit  Washington         53       057  53057      53      57   53057   \n",
       "42    Chelan  Washington         53       007  53007      53       7   53007   \n",
       "44   Clallam  Washington         53       009  53009      53       9   53009   \n",
       "\n",
       "    SOUTH      HR60                       ...                         \\\n",
       "3       0  2.612330                       ...                          \n",
       "27      0  1.422131                       ...                          \n",
       "31      0  2.596560                       ...                          \n",
       "42      0  4.908698                       ...                          \n",
       "44      0  3.330891                       ...                          \n",
       "\n",
       "       BLK90      GI59      GI69      GI79      GI89      FH60  FH70  \\\n",
       "3   0.155922  0.258540  0.371218  0.381240  0.394519  9.039900   8.1   \n",
       "27  0.508687  0.247630  0.346935  0.369436  0.358418  9.174415   7.1   \n",
       "31  0.351958  0.239346  0.344830  0.364623  0.362265  8.611518   7.9   \n",
       "42  0.153110  0.246292  0.367681  0.374505  0.383486  8.787907   8.1   \n",
       "44  0.568504  0.240573  0.349320  0.361619  0.366854  8.788882   6.5   \n",
       "\n",
       "         FH80       FH90                                         geometry  \n",
       "3   10.084926  12.840340  <pysal.cg.shapes.Polygon object at 0x10dadd5c0>  \n",
       "27   9.718054  11.135022  <pysal.cg.shapes.Polygon object at 0x10df05080>  \n",
       "31  10.480031  11.382484  <pysal.cg.shapes.Polygon object at 0x10df05240>  \n",
       "42   9.968454  12.236493  <pysal.cg.shapes.Polygon object at 0x10df05710>  \n",
       "44   9.660900  12.281690  <pysal.cg.shapes.Polygon object at 0x10df057f0>  \n",
       "\n",
       "[5 rows x 70 columns]"
      ]
     },
     "execution_count": 40,
     "metadata": {},
     "output_type": "execute_result"
    }
   ],
   "source": [
    "data_table[data_table.geometry.apply(lambda x: x.centroid[0] < -119)].head()"
   ]
  },
  {
   "cell_type": "code",
   "execution_count": 41,
   "metadata": {
    "collapsed": false
   },
   "outputs": [
    {
     "data": {
      "text/plain": [
       "109"
      ]
     },
     "execution_count": 41,
     "metadata": {},
     "output_type": "execute_result"
    }
   ],
   "source": [
    "len(data_table[data_table.geometry.apply(lambda x: x.centroid[0] < -119)]) #how many west of -119?"
   ]
  },
  {
   "cell_type": "markdown",
   "metadata": {},
   "source": [
    "## Other types of spatial queries\n",
    "\n",
    "Everybody knows the following statements are true:\n",
    "\n",
    "1. If you head directly west from Reno, Nevada, you will shortly enter California.\n",
    "2. San Diego is in California.\n",
    "\n",
    "But what does this tell us about the location of San Diego relative to Reno?\n",
    "\n",
    "Or for that matter, how many counties in California are to the east of Reno?\n",
    "\n",
    "\n",
    "\n"
   ]
  },
  {
   "cell_type": "code",
   "execution_count": 42,
   "metadata": {
    "collapsed": false
   },
   "outputs": [],
   "source": [
    "geom = data_table.query('(NAME == \"Washoe\") & (STATE_NAME == \"Nevada\")').geometry"
   ]
  },
  {
   "cell_type": "code",
   "execution_count": 43,
   "metadata": {
    "collapsed": false
   },
   "outputs": [],
   "source": [
    "lon,lat = geom.values[0].centroid"
   ]
  },
  {
   "cell_type": "code",
   "execution_count": 44,
   "metadata": {
    "collapsed": false
   },
   "outputs": [
    {
     "data": {
      "text/plain": [
       "-119.6555030699793"
      ]
     },
     "execution_count": 44,
     "metadata": {},
     "output_type": "execute_result"
    }
   ],
   "source": [
    "lon"
   ]
  },
  {
   "cell_type": "code",
   "execution_count": 45,
   "metadata": {
    "collapsed": true
   },
   "outputs": [],
   "source": [
    "cal_counties = data_table.query('(STATE_NAME==\"California\")')"
   ]
  },
  {
   "cell_type": "code",
   "execution_count": 46,
   "metadata": {
    "collapsed": false,
    "scrolled": false
   },
   "outputs": [
    {
     "data": {
      "text/html": [
       "<div>\n",
       "<table border=\"1\" class=\"dataframe\">\n",
       "  <thead>\n",
       "    <tr style=\"text-align: right;\">\n",
       "      <th></th>\n",
       "      <th>NAME</th>\n",
       "      <th>STATE_NAME</th>\n",
       "      <th>STATE_FIPS</th>\n",
       "      <th>CNTY_FIPS</th>\n",
       "      <th>FIPS</th>\n",
       "      <th>STFIPS</th>\n",
       "      <th>COFIPS</th>\n",
       "      <th>FIPSNO</th>\n",
       "      <th>SOUTH</th>\n",
       "      <th>HR60</th>\n",
       "      <th>...</th>\n",
       "      <th>BLK90</th>\n",
       "      <th>GI59</th>\n",
       "      <th>GI69</th>\n",
       "      <th>GI79</th>\n",
       "      <th>GI89</th>\n",
       "      <th>FH60</th>\n",
       "      <th>FH70</th>\n",
       "      <th>FH80</th>\n",
       "      <th>FH90</th>\n",
       "      <th>geometry</th>\n",
       "    </tr>\n",
       "  </thead>\n",
       "  <tbody>\n",
       "    <tr>\n",
       "      <th>1312</th>\n",
       "      <td>Mono</td>\n",
       "      <td>California</td>\n",
       "      <td>06</td>\n",
       "      <td>051</td>\n",
       "      <td>06051</td>\n",
       "      <td>6</td>\n",
       "      <td>51</td>\n",
       "      <td>6051</td>\n",
       "      <td>0</td>\n",
       "      <td>15.062509</td>\n",
       "      <td>...</td>\n",
       "      <td>0.431900</td>\n",
       "      <td>0.229888</td>\n",
       "      <td>0.327520</td>\n",
       "      <td>0.388414</td>\n",
       "      <td>0.366316</td>\n",
       "      <td>6.743421</td>\n",
       "      <td>6.6</td>\n",
       "      <td>8.187135</td>\n",
       "      <td>10.083699</td>\n",
       "      <td>&lt;pysal.cg.shapes.Polygon object at 0x10dfd5e48&gt;</td>\n",
       "    </tr>\n",
       "    <tr>\n",
       "      <th>1591</th>\n",
       "      <td>Fresno</td>\n",
       "      <td>California</td>\n",
       "      <td>06</td>\n",
       "      <td>019</td>\n",
       "      <td>06019</td>\n",
       "      <td>6</td>\n",
       "      <td>19</td>\n",
       "      <td>6019</td>\n",
       "      <td>0</td>\n",
       "      <td>5.192037</td>\n",
       "      <td>...</td>\n",
       "      <td>5.007266</td>\n",
       "      <td>0.286651</td>\n",
       "      <td>0.379884</td>\n",
       "      <td>0.394981</td>\n",
       "      <td>0.412947</td>\n",
       "      <td>11.788963</td>\n",
       "      <td>11.8</td>\n",
       "      <td>13.998747</td>\n",
       "      <td>18.523541</td>\n",
       "      <td>&lt;pysal.cg.shapes.Polygon object at 0x10e0ecc50&gt;</td>\n",
       "    </tr>\n",
       "    <tr>\n",
       "      <th>1620</th>\n",
       "      <td>Inyo</td>\n",
       "      <td>California</td>\n",
       "      <td>06</td>\n",
       "      <td>027</td>\n",
       "      <td>06027</td>\n",
       "      <td>6</td>\n",
       "      <td>27</td>\n",
       "      <td>6027</td>\n",
       "      <td>0</td>\n",
       "      <td>8.558713</td>\n",
       "      <td>...</td>\n",
       "      <td>0.432143</td>\n",
       "      <td>0.242293</td>\n",
       "      <td>0.334361</td>\n",
       "      <td>0.353784</td>\n",
       "      <td>0.378516</td>\n",
       "      <td>9.676365</td>\n",
       "      <td>8.1</td>\n",
       "      <td>8.480065</td>\n",
       "      <td>12.067279</td>\n",
       "      <td>&lt;pysal.cg.shapes.Polygon object at 0x10e220940&gt;</td>\n",
       "    </tr>\n",
       "    <tr>\n",
       "      <th>1765</th>\n",
       "      <td>Tulare</td>\n",
       "      <td>California</td>\n",
       "      <td>06</td>\n",
       "      <td>107</td>\n",
       "      <td>06107</td>\n",
       "      <td>6</td>\n",
       "      <td>107</td>\n",
       "      <td>6107</td>\n",
       "      <td>0</td>\n",
       "      <td>3.364944</td>\n",
       "      <td>...</td>\n",
       "      <td>1.480503</td>\n",
       "      <td>0.303303</td>\n",
       "      <td>0.380229</td>\n",
       "      <td>0.395059</td>\n",
       "      <td>0.410811</td>\n",
       "      <td>10.398757</td>\n",
       "      <td>9.5</td>\n",
       "      <td>11.957928</td>\n",
       "      <td>16.303423</td>\n",
       "      <td>&lt;pysal.cg.shapes.Polygon object at 0x10e2a4a58&gt;</td>\n",
       "    </tr>\n",
       "    <tr>\n",
       "      <th>1956</th>\n",
       "      <td>Kern</td>\n",
       "      <td>California</td>\n",
       "      <td>06</td>\n",
       "      <td>029</td>\n",
       "      <td>06029</td>\n",
       "      <td>6</td>\n",
       "      <td>29</td>\n",
       "      <td>6029</td>\n",
       "      <td>0</td>\n",
       "      <td>6.393044</td>\n",
       "      <td>...</td>\n",
       "      <td>5.544117</td>\n",
       "      <td>0.273083</td>\n",
       "      <td>0.364603</td>\n",
       "      <td>0.380617</td>\n",
       "      <td>0.395393</td>\n",
       "      <td>10.225236</td>\n",
       "      <td>10.4</td>\n",
       "      <td>12.037755</td>\n",
       "      <td>16.118827</td>\n",
       "      <td>&lt;pysal.cg.shapes.Polygon object at 0x10e348fd0&gt;</td>\n",
       "    </tr>\n",
       "    <tr>\n",
       "      <th>1957</th>\n",
       "      <td>San Bernardino</td>\n",
       "      <td>California</td>\n",
       "      <td>06</td>\n",
       "      <td>071</td>\n",
       "      <td>06071</td>\n",
       "      <td>6</td>\n",
       "      <td>71</td>\n",
       "      <td>6071</td>\n",
       "      <td>0</td>\n",
       "      <td>3.243373</td>\n",
       "      <td>...</td>\n",
       "      <td>8.103188</td>\n",
       "      <td>0.259038</td>\n",
       "      <td>0.350927</td>\n",
       "      <td>0.362389</td>\n",
       "      <td>0.372659</td>\n",
       "      <td>9.857519</td>\n",
       "      <td>10.0</td>\n",
       "      <td>12.999831</td>\n",
       "      <td>15.403925</td>\n",
       "      <td>&lt;pysal.cg.shapes.Polygon object at 0x10e36f080&gt;</td>\n",
       "    </tr>\n",
       "    <tr>\n",
       "      <th>2117</th>\n",
       "      <td>Ventura</td>\n",
       "      <td>California</td>\n",
       "      <td>06</td>\n",
       "      <td>111</td>\n",
       "      <td>06111</td>\n",
       "      <td>6</td>\n",
       "      <td>111</td>\n",
       "      <td>6111</td>\n",
       "      <td>0</td>\n",
       "      <td>3.180374</td>\n",
       "      <td>...</td>\n",
       "      <td>2.336118</td>\n",
       "      <td>0.259643</td>\n",
       "      <td>0.325908</td>\n",
       "      <td>0.350430</td>\n",
       "      <td>0.329175</td>\n",
       "      <td>10.304761</td>\n",
       "      <td>8.9</td>\n",
       "      <td>11.047165</td>\n",
       "      <td>12.044930</td>\n",
       "      <td>&lt;pysal.cg.shapes.Polygon object at 0x10e40c390&gt;</td>\n",
       "    </tr>\n",
       "    <tr>\n",
       "      <th>2255</th>\n",
       "      <td>Riverside</td>\n",
       "      <td>California</td>\n",
       "      <td>06</td>\n",
       "      <td>065</td>\n",
       "      <td>06065</td>\n",
       "      <td>6</td>\n",
       "      <td>65</td>\n",
       "      <td>6065</td>\n",
       "      <td>0</td>\n",
       "      <td>4.898903</td>\n",
       "      <td>...</td>\n",
       "      <td>5.433210</td>\n",
       "      <td>0.284000</td>\n",
       "      <td>0.376737</td>\n",
       "      <td>0.383226</td>\n",
       "      <td>0.368177</td>\n",
       "      <td>9.769959</td>\n",
       "      <td>9.2</td>\n",
       "      <td>11.145612</td>\n",
       "      <td>12.678340</td>\n",
       "      <td>&lt;pysal.cg.shapes.Polygon object at 0x10e49d128&gt;</td>\n",
       "    </tr>\n",
       "    <tr>\n",
       "      <th>2279</th>\n",
       "      <td>Orange</td>\n",
       "      <td>California</td>\n",
       "      <td>06</td>\n",
       "      <td>059</td>\n",
       "      <td>06059</td>\n",
       "      <td>6</td>\n",
       "      <td>59</td>\n",
       "      <td>6059</td>\n",
       "      <td>0</td>\n",
       "      <td>2.083555</td>\n",
       "      <td>...</td>\n",
       "      <td>1.770587</td>\n",
       "      <td>0.255864</td>\n",
       "      <td>0.316731</td>\n",
       "      <td>0.355117</td>\n",
       "      <td>0.330447</td>\n",
       "      <td>8.802545</td>\n",
       "      <td>9.1</td>\n",
       "      <td>12.405423</td>\n",
       "      <td>12.974648</td>\n",
       "      <td>&lt;pysal.cg.shapes.Polygon object at 0x10e49dc18&gt;</td>\n",
       "    </tr>\n",
       "    <tr>\n",
       "      <th>2344</th>\n",
       "      <td>San Diego</td>\n",
       "      <td>California</td>\n",
       "      <td>06</td>\n",
       "      <td>073</td>\n",
       "      <td>06073</td>\n",
       "      <td>6</td>\n",
       "      <td>73</td>\n",
       "      <td>6073</td>\n",
       "      <td>0</td>\n",
       "      <td>2.387842</td>\n",
       "      <td>...</td>\n",
       "      <td>6.377301</td>\n",
       "      <td>0.269147</td>\n",
       "      <td>0.352428</td>\n",
       "      <td>0.382815</td>\n",
       "      <td>0.368301</td>\n",
       "      <td>11.425041</td>\n",
       "      <td>11.5</td>\n",
       "      <td>14.384523</td>\n",
       "      <td>15.489702</td>\n",
       "      <td>&lt;pysal.cg.shapes.Polygon object at 0x10e4ea908&gt;</td>\n",
       "    </tr>\n",
       "    <tr>\n",
       "      <th>2351</th>\n",
       "      <td>Los Angeles</td>\n",
       "      <td>California</td>\n",
       "      <td>06</td>\n",
       "      <td>037</td>\n",
       "      <td>06037</td>\n",
       "      <td>6</td>\n",
       "      <td>37</td>\n",
       "      <td>6037</td>\n",
       "      <td>0</td>\n",
       "      <td>4.564947</td>\n",
       "      <td>...</td>\n",
       "      <td>11.203381</td>\n",
       "      <td>0.267207</td>\n",
       "      <td>0.353837</td>\n",
       "      <td>0.402031</td>\n",
       "      <td>0.392669</td>\n",
       "      <td>13.071850</td>\n",
       "      <td>13.4</td>\n",
       "      <td>17.767317</td>\n",
       "      <td>18.808224</td>\n",
       "      <td>&lt;pysal.cg.shapes.Polygon object at 0x10e4eac18&gt;</td>\n",
       "    </tr>\n",
       "    <tr>\n",
       "      <th>2358</th>\n",
       "      <td>Imperial</td>\n",
       "      <td>California</td>\n",
       "      <td>06</td>\n",
       "      <td>025</td>\n",
       "      <td>06025</td>\n",
       "      <td>6</td>\n",
       "      <td>25</td>\n",
       "      <td>6025</td>\n",
       "      <td>0</td>\n",
       "      <td>4.160599</td>\n",
       "      <td>...</td>\n",
       "      <td>2.398836</td>\n",
       "      <td>0.286568</td>\n",
       "      <td>0.374913</td>\n",
       "      <td>0.397430</td>\n",
       "      <td>0.426348</td>\n",
       "      <td>11.466417</td>\n",
       "      <td>9.7</td>\n",
       "      <td>12.590249</td>\n",
       "      <td>17.243741</td>\n",
       "      <td>&lt;pysal.cg.shapes.Polygon object at 0x10e4eaf98&gt;</td>\n",
       "    </tr>\n",
       "  </tbody>\n",
       "</table>\n",
       "<p>12 rows × 70 columns</p>\n",
       "</div>"
      ],
      "text/plain": [
       "                NAME  STATE_NAME STATE_FIPS CNTY_FIPS   FIPS  STFIPS  COFIPS  \\\n",
       "1312            Mono  California         06       051  06051       6      51   \n",
       "1591          Fresno  California         06       019  06019       6      19   \n",
       "1620            Inyo  California         06       027  06027       6      27   \n",
       "1765          Tulare  California         06       107  06107       6     107   \n",
       "1956            Kern  California         06       029  06029       6      29   \n",
       "1957  San Bernardino  California         06       071  06071       6      71   \n",
       "2117         Ventura  California         06       111  06111       6     111   \n",
       "2255       Riverside  California         06       065  06065       6      65   \n",
       "2279          Orange  California         06       059  06059       6      59   \n",
       "2344       San Diego  California         06       073  06073       6      73   \n",
       "2351     Los Angeles  California         06       037  06037       6      37   \n",
       "2358        Imperial  California         06       025  06025       6      25   \n",
       "\n",
       "      FIPSNO  SOUTH       HR60  \\\n",
       "1312    6051      0  15.062509   \n",
       "1591    6019      0   5.192037   \n",
       "1620    6027      0   8.558713   \n",
       "1765    6107      0   3.364944   \n",
       "1956    6029      0   6.393044   \n",
       "1957    6071      0   3.243373   \n",
       "2117    6111      0   3.180374   \n",
       "2255    6065      0   4.898903   \n",
       "2279    6059      0   2.083555   \n",
       "2344    6073      0   2.387842   \n",
       "2351    6037      0   4.564947   \n",
       "2358    6025      0   4.160599   \n",
       "\n",
       "                           ...                             BLK90      GI59  \\\n",
       "1312                       ...                          0.431900  0.229888   \n",
       "1591                       ...                          5.007266  0.286651   \n",
       "1620                       ...                          0.432143  0.242293   \n",
       "1765                       ...                          1.480503  0.303303   \n",
       "1956                       ...                          5.544117  0.273083   \n",
       "1957                       ...                          8.103188  0.259038   \n",
       "2117                       ...                          2.336118  0.259643   \n",
       "2255                       ...                          5.433210  0.284000   \n",
       "2279                       ...                          1.770587  0.255864   \n",
       "2344                       ...                          6.377301  0.269147   \n",
       "2351                       ...                         11.203381  0.267207   \n",
       "2358                       ...                          2.398836  0.286568   \n",
       "\n",
       "          GI69      GI79      GI89       FH60  FH70       FH80       FH90  \\\n",
       "1312  0.327520  0.388414  0.366316   6.743421   6.6   8.187135  10.083699   \n",
       "1591  0.379884  0.394981  0.412947  11.788963  11.8  13.998747  18.523541   \n",
       "1620  0.334361  0.353784  0.378516   9.676365   8.1   8.480065  12.067279   \n",
       "1765  0.380229  0.395059  0.410811  10.398757   9.5  11.957928  16.303423   \n",
       "1956  0.364603  0.380617  0.395393  10.225236  10.4  12.037755  16.118827   \n",
       "1957  0.350927  0.362389  0.372659   9.857519  10.0  12.999831  15.403925   \n",
       "2117  0.325908  0.350430  0.329175  10.304761   8.9  11.047165  12.044930   \n",
       "2255  0.376737  0.383226  0.368177   9.769959   9.2  11.145612  12.678340   \n",
       "2279  0.316731  0.355117  0.330447   8.802545   9.1  12.405423  12.974648   \n",
       "2344  0.352428  0.382815  0.368301  11.425041  11.5  14.384523  15.489702   \n",
       "2351  0.353837  0.402031  0.392669  13.071850  13.4  17.767317  18.808224   \n",
       "2358  0.374913  0.397430  0.426348  11.466417   9.7  12.590249  17.243741   \n",
       "\n",
       "                                             geometry  \n",
       "1312  <pysal.cg.shapes.Polygon object at 0x10dfd5e48>  \n",
       "1591  <pysal.cg.shapes.Polygon object at 0x10e0ecc50>  \n",
       "1620  <pysal.cg.shapes.Polygon object at 0x10e220940>  \n",
       "1765  <pysal.cg.shapes.Polygon object at 0x10e2a4a58>  \n",
       "1956  <pysal.cg.shapes.Polygon object at 0x10e348fd0>  \n",
       "1957  <pysal.cg.shapes.Polygon object at 0x10e36f080>  \n",
       "2117  <pysal.cg.shapes.Polygon object at 0x10e40c390>  \n",
       "2255  <pysal.cg.shapes.Polygon object at 0x10e49d128>  \n",
       "2279  <pysal.cg.shapes.Polygon object at 0x10e49dc18>  \n",
       "2344  <pysal.cg.shapes.Polygon object at 0x10e4ea908>  \n",
       "2351  <pysal.cg.shapes.Polygon object at 0x10e4eac18>  \n",
       "2358  <pysal.cg.shapes.Polygon object at 0x10e4eaf98>  \n",
       "\n",
       "[12 rows x 70 columns]"
      ]
     },
     "execution_count": 46,
     "metadata": {},
     "output_type": "execute_result"
    }
   ],
   "source": [
    "cal_counties[cal_counties.geometry.apply(lambda x: x.centroid[0] > lon)]"
   ]
  },
  {
   "cell_type": "code",
   "execution_count": 47,
   "metadata": {
    "collapsed": false
   },
   "outputs": [
    {
     "data": {
      "text/plain": [
       "58"
      ]
     },
     "execution_count": 47,
     "metadata": {},
     "output_type": "execute_result"
    }
   ],
   "source": [
    "len(cal_counties)"
   ]
  },
  {
   "cell_type": "markdown",
   "metadata": {},
   "source": [
    "This works on any type of spatial query. \n",
    "\n",
    "For instance, if we wanted to find all of the counties that are within a threshold distance from an observation's centroid, we can do it in the following way. \n",
    "\n",
    "But first, we need to handle distance calculations on the earth's surface."
   ]
  },
  {
   "cell_type": "code",
   "execution_count": 48,
   "metadata": {
    "collapsed": false
   },
   "outputs": [],
   "source": [
    "from math import radians, sin, cos, sqrt, asin\n",
    "\n",
    "def gcd(loc1, loc2, R=3961):\n",
    "    \"\"\"Great circle distance via Haversine formula\n",
    "    \n",
    "    Parameters\n",
    "    ----------\n",
    "    \n",
    "    loc1: tuple (long, lat in decimal degrees)\n",
    "    \n",
    "    loc2: tuple (long, lat in decimal degrees)\n",
    "    \n",
    "    R: Radius of the earth (3961 miles, 6367 km)\n",
    "    \n",
    "    Returns\n",
    "    -------\n",
    "    great circle distance between loc1 and loc2 in units of R\n",
    "    \n",
    "    \n",
    "    Notes\n",
    "    ------\n",
    "    Does not take into account non-spheroidal shape of the Earth\n",
    "    \n",
    "    \n",
    "    \n",
    "    >>> san_diego = -117.1611, 32.7157\n",
    "    >>> austin = -97.7431, 30.2672\n",
    "    >>> gcd(san_diego, austin)\n",
    "    1155.474644164695\n",
    "  \n",
    "    \n",
    "    \"\"\"\n",
    "    lon1, lat1 = loc1\n",
    "    lon2, lat2 = loc2\n",
    "    dLat = radians(lat2 - lat1)\n",
    "    dLon = radians(lon2 - lon1)\n",
    "    lat1 = radians(lat1)\n",
    "    lat2 = radians(lat2)\n",
    " \n",
    "    a = sin(dLat/2)**2 + cos(lat1)*cos(lat2)*sin(dLon/2)**2\n",
    "    c = 2*asin(sqrt(a))\n",
    "\n",
    "    return R * c\n",
    " \n",
    "def gcdm(loc1, loc2):\n",
    "    return gcd(loc1, loc2)\n",
    "\n",
    "def gcdk(loc1, loc2):\n",
    "    return gcd(loc1, loc2, 6367 )"
   ]
  },
  {
   "cell_type": "code",
   "execution_count": 49,
   "metadata": {
    "collapsed": false
   },
   "outputs": [
    {
     "data": {
      "text/plain": [
       "1155.474644164695"
      ]
     },
     "execution_count": 49,
     "metadata": {},
     "output_type": "execute_result"
    }
   ],
   "source": [
    "san_diego = -117.1611, 32.7157\n",
    "austin = -97.7431, 30.2672\n",
    "gcd(san_diego, austin)"
   ]
  },
  {
   "cell_type": "code",
   "execution_count": 50,
   "metadata": {
    "collapsed": false
   },
   "outputs": [
    {
     "data": {
      "text/plain": [
       "1857.3357887898544"
      ]
     },
     "execution_count": 50,
     "metadata": {},
     "output_type": "execute_result"
    }
   ],
   "source": [
    "gcdk(san_diego, austin)"
   ]
  },
  {
   "cell_type": "code",
   "execution_count": 51,
   "metadata": {
    "collapsed": false
   },
   "outputs": [
    {
     "data": {
      "text/plain": [
       "69.13249167149539"
      ]
     },
     "execution_count": 51,
     "metadata": {},
     "output_type": "execute_result"
    }
   ],
   "source": [
    "loc1 = (-117.1611, 0.0)\n",
    "loc2 = (-118.1611, 0.0)\n",
    "gcd(loc1, loc2)"
   ]
  },
  {
   "cell_type": "code",
   "execution_count": 52,
   "metadata": {
    "collapsed": false
   },
   "outputs": [
    {
     "data": {
      "text/plain": [
       "48.88374342930467"
      ]
     },
     "execution_count": 52,
     "metadata": {},
     "output_type": "execute_result"
    }
   ],
   "source": [
    "loc1 = (-117.1611, 45.0)\n",
    "loc2 = (-118.1611, 45.0)\n",
    "gcd(loc1, loc2)"
   ]
  },
  {
   "cell_type": "code",
   "execution_count": 53,
   "metadata": {
    "collapsed": false
   },
   "outputs": [
    {
     "data": {
      "text/plain": [
       "1.2065130336642724"
      ]
     },
     "execution_count": 53,
     "metadata": {},
     "output_type": "execute_result"
    }
   ],
   "source": [
    "loc1 = (-117.1611, 89.0)\n",
    "loc2 = (-118.1611, 89.0)\n",
    "gcd(loc1, loc2)"
   ]
  },
  {
   "cell_type": "code",
   "execution_count": 54,
   "metadata": {
    "collapsed": true
   },
   "outputs": [],
   "source": [
    "lats = range(0, 91)\n",
    "onedeglon = [ gcd((-117.1611,lat),(-118.1611,lat)) for lat in lats]"
   ]
  },
  {
   "cell_type": "code",
   "execution_count": 55,
   "metadata": {
    "collapsed": false
   },
   "outputs": [
    {
     "data": {
      "text/plain": [
       "<matplotlib.text.Text at 0x114174470>"
      ]
     },
     "execution_count": 55,
     "metadata": {},
     "output_type": "execute_result"
    },
    {
     "data": {
      "image/png": "[encoded data removed]",
      "text/plain": [
       "<matplotlib.figure.Figure at 0x10e9deac8>"
      ]
     },
     "metadata": {},
     "output_type": "display_data"
    }
   ],
   "source": [
    "import matplotlib.pyplot as plt\n",
    "%matplotlib inline\n",
    "plt.plot(lats, onedeglon)\n",
    "plt.ylabel('miles')\n",
    "plt.xlabel('degree of latitude')\n",
    "plt.title('Length of a degree of longitude')"
   ]
  },
  {
   "cell_type": "code",
   "execution_count": 56,
   "metadata": {
    "collapsed": false
   },
   "outputs": [
    {
     "data": {
      "text/plain": [
       "1155.474644164695"
      ]
     },
     "execution_count": 56,
     "metadata": {},
     "output_type": "execute_result"
    }
   ],
   "source": [
    "san_diego = -117.1611, 32.7157\n",
    "austin = -97.7431, 30.2672\n",
    "gcd(san_diego, austin)"
   ]
  },
  {
   "cell_type": "markdown",
   "metadata": {},
   "source": [
    "Now we can use our distance function to pose distance-related queries on our data table."
   ]
  },
  {
   "cell_type": "code",
   "execution_count": 57,
   "metadata": {
    "collapsed": false
   },
   "outputs": [
    {
     "data": {
      "text/html": [
       "<div>\n",
       "<table border=\"1\" class=\"dataframe\">\n",
       "  <thead>\n",
       "    <tr style=\"text-align: right;\">\n",
       "      <th></th>\n",
       "      <th>NAME</th>\n",
       "      <th>STATE_NAME</th>\n",
       "      <th>STATE_FIPS</th>\n",
       "      <th>CNTY_FIPS</th>\n",
       "      <th>FIPS</th>\n",
       "      <th>STFIPS</th>\n",
       "      <th>COFIPS</th>\n",
       "      <th>FIPSNO</th>\n",
       "      <th>SOUTH</th>\n",
       "      <th>HR60</th>\n",
       "      <th>...</th>\n",
       "      <th>BLK90</th>\n",
       "      <th>GI59</th>\n",
       "      <th>GI69</th>\n",
       "      <th>GI79</th>\n",
       "      <th>GI89</th>\n",
       "      <th>FH60</th>\n",
       "      <th>FH70</th>\n",
       "      <th>FH80</th>\n",
       "      <th>FH90</th>\n",
       "      <th>geometry</th>\n",
       "    </tr>\n",
       "  </thead>\n",
       "  <tbody>\n",
       "    <tr>\n",
       "      <th>2698</th>\n",
       "      <td>Burnet</td>\n",
       "      <td>Texas</td>\n",
       "      <td>48</td>\n",
       "      <td>053</td>\n",
       "      <td>48053</td>\n",
       "      <td>48</td>\n",
       "      <td>53</td>\n",
       "      <td>48053</td>\n",
       "      <td>1</td>\n",
       "      <td>0.000000</td>\n",
       "      <td>...</td>\n",
       "      <td>1.186224</td>\n",
       "      <td>0.327508</td>\n",
       "      <td>0.449285</td>\n",
       "      <td>0.385079</td>\n",
       "      <td>0.405890</td>\n",
       "      <td>10.774142</td>\n",
       "      <td>6.5</td>\n",
       "      <td>7.115629</td>\n",
       "      <td>10.568742</td>\n",
       "      <td>&lt;pysal.cg.shapes.Polygon object at 0x10e6567f0&gt;</td>\n",
       "    </tr>\n",
       "    <tr>\n",
       "      <th>2716</th>\n",
       "      <td>Williamson</td>\n",
       "      <td>Texas</td>\n",
       "      <td>48</td>\n",
       "      <td>491</td>\n",
       "      <td>48491</td>\n",
       "      <td>48</td>\n",
       "      <td>491</td>\n",
       "      <td>48491</td>\n",
       "      <td>1</td>\n",
       "      <td>9.511852</td>\n",
       "      <td>...</td>\n",
       "      <td>4.916482</td>\n",
       "      <td>0.363603</td>\n",
       "      <td>0.379902</td>\n",
       "      <td>0.341976</td>\n",
       "      <td>0.345201</td>\n",
       "      <td>13.532731</td>\n",
       "      <td>9.0</td>\n",
       "      <td>7.582572</td>\n",
       "      <td>12.032589</td>\n",
       "      <td>&lt;pysal.cg.shapes.Polygon object at 0x10e656fd0&gt;</td>\n",
       "    </tr>\n",
       "    <tr>\n",
       "      <th>2742</th>\n",
       "      <td>Travis</td>\n",
       "      <td>Texas</td>\n",
       "      <td>48</td>\n",
       "      <td>453</td>\n",
       "      <td>48453</td>\n",
       "      <td>48</td>\n",
       "      <td>453</td>\n",
       "      <td>48453</td>\n",
       "      <td>1</td>\n",
       "      <td>4.242561</td>\n",
       "      <td>...</td>\n",
       "      <td>10.959791</td>\n",
       "      <td>0.299292</td>\n",
       "      <td>0.372293</td>\n",
       "      <td>0.378953</td>\n",
       "      <td>0.388149</td>\n",
       "      <td>12.976379</td>\n",
       "      <td>10.9</td>\n",
       "      <td>14.459691</td>\n",
       "      <td>17.307113</td>\n",
       "      <td>&lt;pysal.cg.shapes.Polygon object at 0x10e67eba8&gt;</td>\n",
       "    </tr>\n",
       "    <tr>\n",
       "      <th>2751</th>\n",
       "      <td>Lee</td>\n",
       "      <td>Texas</td>\n",
       "      <td>48</td>\n",
       "      <td>287</td>\n",
       "      <td>48287</td>\n",
       "      <td>48</td>\n",
       "      <td>287</td>\n",
       "      <td>48287</td>\n",
       "      <td>1</td>\n",
       "      <td>7.449622</td>\n",
       "      <td>...</td>\n",
       "      <td>13.847829</td>\n",
       "      <td>0.376002</td>\n",
       "      <td>0.433132</td>\n",
       "      <td>0.394000</td>\n",
       "      <td>0.394959</td>\n",
       "      <td>12.305699</td>\n",
       "      <td>10.1</td>\n",
       "      <td>8.875542</td>\n",
       "      <td>10.530896</td>\n",
       "      <td>&lt;pysal.cg.shapes.Polygon object at 0x10e67eef0&gt;</td>\n",
       "    </tr>\n",
       "    <tr>\n",
       "      <th>2754</th>\n",
       "      <td>Blanco</td>\n",
       "      <td>Texas</td>\n",
       "      <td>48</td>\n",
       "      <td>031</td>\n",
       "      <td>48031</td>\n",
       "      <td>48</td>\n",
       "      <td>31</td>\n",
       "      <td>48031</td>\n",
       "      <td>1</td>\n",
       "      <td>0.000000</td>\n",
       "      <td>...</td>\n",
       "      <td>0.937709</td>\n",
       "      <td>0.369814</td>\n",
       "      <td>0.436449</td>\n",
       "      <td>0.394609</td>\n",
       "      <td>0.394414</td>\n",
       "      <td>9.365854</td>\n",
       "      <td>6.0</td>\n",
       "      <td>8.074074</td>\n",
       "      <td>9.080119</td>\n",
       "      <td>&lt;pysal.cg.shapes.Polygon object at 0x10e6aa160&gt;</td>\n",
       "    </tr>\n",
       "    <tr>\n",
       "      <th>2762</th>\n",
       "      <td>Bastrop</td>\n",
       "      <td>Texas</td>\n",
       "      <td>48</td>\n",
       "      <td>021</td>\n",
       "      <td>48021</td>\n",
       "      <td>48</td>\n",
       "      <td>21</td>\n",
       "      <td>48021</td>\n",
       "      <td>1</td>\n",
       "      <td>3.938946</td>\n",
       "      <td>...</td>\n",
       "      <td>11.792071</td>\n",
       "      <td>0.370264</td>\n",
       "      <td>0.419933</td>\n",
       "      <td>0.390927</td>\n",
       "      <td>0.380907</td>\n",
       "      <td>14.747191</td>\n",
       "      <td>12.5</td>\n",
       "      <td>10.559006</td>\n",
       "      <td>12.281387</td>\n",
       "      <td>&lt;pysal.cg.shapes.Polygon object at 0x10e6aa518&gt;</td>\n",
       "    </tr>\n",
       "    <tr>\n",
       "      <th>2769</th>\n",
       "      <td>Hays</td>\n",
       "      <td>Texas</td>\n",
       "      <td>48</td>\n",
       "      <td>209</td>\n",
       "      <td>48209</td>\n",
       "      <td>48</td>\n",
       "      <td>209</td>\n",
       "      <td>48209</td>\n",
       "      <td>1</td>\n",
       "      <td>5.016555</td>\n",
       "      <td>...</td>\n",
       "      <td>3.383424</td>\n",
       "      <td>0.385061</td>\n",
       "      <td>0.424973</td>\n",
       "      <td>0.378992</td>\n",
       "      <td>0.372266</td>\n",
       "      <td>13.064187</td>\n",
       "      <td>9.4</td>\n",
       "      <td>10.003691</td>\n",
       "      <td>10.337188</td>\n",
       "      <td>&lt;pysal.cg.shapes.Polygon object at 0x10e6aa908&gt;</td>\n",
       "    </tr>\n",
       "    <tr>\n",
       "      <th>2795</th>\n",
       "      <td>Caldwell</td>\n",
       "      <td>Texas</td>\n",
       "      <td>48</td>\n",
       "      <td>055</td>\n",
       "      <td>48055</td>\n",
       "      <td>48</td>\n",
       "      <td>55</td>\n",
       "      <td>48055</td>\n",
       "      <td>1</td>\n",
       "      <td>9.677544</td>\n",
       "      <td>...</td>\n",
       "      <td>10.704001</td>\n",
       "      <td>0.380080</td>\n",
       "      <td>0.412614</td>\n",
       "      <td>0.410802</td>\n",
       "      <td>0.413940</td>\n",
       "      <td>15.229616</td>\n",
       "      <td>10.5</td>\n",
       "      <td>12.894034</td>\n",
       "      <td>17.191502</td>\n",
       "      <td>&lt;pysal.cg.shapes.Polygon object at 0x10e6d04a8&gt;</td>\n",
       "    </tr>\n",
       "    <tr>\n",
       "      <th>2798</th>\n",
       "      <td>Comal</td>\n",
       "      <td>Texas</td>\n",
       "      <td>48</td>\n",
       "      <td>091</td>\n",
       "      <td>48091</td>\n",
       "      <td>48</td>\n",
       "      <td>91</td>\n",
       "      <td>48091</td>\n",
       "      <td>1</td>\n",
       "      <td>3.359538</td>\n",
       "      <td>...</td>\n",
       "      <td>0.854684</td>\n",
       "      <td>0.274182</td>\n",
       "      <td>0.359174</td>\n",
       "      <td>0.375810</td>\n",
       "      <td>0.380032</td>\n",
       "      <td>11.315107</td>\n",
       "      <td>7.6</td>\n",
       "      <td>8.693149</td>\n",
       "      <td>9.104427</td>\n",
       "      <td>&lt;pysal.cg.shapes.Polygon object at 0x10e6d05f8&gt;</td>\n",
       "    </tr>\n",
       "    <tr>\n",
       "      <th>2808</th>\n",
       "      <td>Guadalupe</td>\n",
       "      <td>Texas</td>\n",
       "      <td>48</td>\n",
       "      <td>187</td>\n",
       "      <td>48187</td>\n",
       "      <td>48</td>\n",
       "      <td>187</td>\n",
       "      <td>48187</td>\n",
       "      <td>1</td>\n",
       "      <td>5.743759</td>\n",
       "      <td>...</td>\n",
       "      <td>5.649500</td>\n",
       "      <td>0.340374</td>\n",
       "      <td>0.388821</td>\n",
       "      <td>0.354559</td>\n",
       "      <td>0.378073</td>\n",
       "      <td>11.758921</td>\n",
       "      <td>9.6</td>\n",
       "      <td>10.418149</td>\n",
       "      <td>12.918448</td>\n",
       "      <td>&lt;pysal.cg.shapes.Polygon object at 0x10e6d0a58&gt;</td>\n",
       "    </tr>\n",
       "  </tbody>\n",
       "</table>\n",
       "<p>10 rows × 70 columns</p>\n",
       "</div>"
      ],
      "text/plain": [
       "            NAME STATE_NAME STATE_FIPS CNTY_FIPS   FIPS  STFIPS  COFIPS  \\\n",
       "2698      Burnet      Texas         48       053  48053      48      53   \n",
       "2716  Williamson      Texas         48       491  48491      48     491   \n",
       "2742      Travis      Texas         48       453  48453      48     453   \n",
       "2751         Lee      Texas         48       287  48287      48     287   \n",
       "2754      Blanco      Texas         48       031  48031      48      31   \n",
       "2762     Bastrop      Texas         48       021  48021      48      21   \n",
       "2769        Hays      Texas         48       209  48209      48     209   \n",
       "2795    Caldwell      Texas         48       055  48055      48      55   \n",
       "2798       Comal      Texas         48       091  48091      48      91   \n",
       "2808   Guadalupe      Texas         48       187  48187      48     187   \n",
       "\n",
       "      FIPSNO  SOUTH      HR60  \\\n",
       "2698   48053      1  0.000000   \n",
       "2716   48491      1  9.511852   \n",
       "2742   48453      1  4.242561   \n",
       "2751   48287      1  7.449622   \n",
       "2754   48031      1  0.000000   \n",
       "2762   48021      1  3.938946   \n",
       "2769   48209      1  5.016555   \n",
       "2795   48055      1  9.677544   \n",
       "2798   48091      1  3.359538   \n",
       "2808   48187      1  5.743759   \n",
       "\n",
       "                           ...                             BLK90      GI59  \\\n",
       "2698                       ...                          1.186224  0.327508   \n",
       "2716                       ...                          4.916482  0.363603   \n",
       "2742                       ...                         10.959791  0.299292   \n",
       "2751                       ...                         13.847829  0.376002   \n",
       "2754                       ...                          0.937709  0.369814   \n",
       "2762                       ...                         11.792071  0.370264   \n",
       "2769                       ...                          3.383424  0.385061   \n",
       "2795                       ...                         10.704001  0.380080   \n",
       "2798                       ...                          0.854684  0.274182   \n",
       "2808                       ...                          5.649500  0.340374   \n",
       "\n",
       "          GI69      GI79      GI89       FH60  FH70       FH80       FH90  \\\n",
       "2698  0.449285  0.385079  0.405890  10.774142   6.5   7.115629  10.568742   \n",
       "2716  0.379902  0.341976  0.345201  13.532731   9.0   7.582572  12.032589   \n",
       "2742  0.372293  0.378953  0.388149  12.976379  10.9  14.459691  17.307113   \n",
       "2751  0.433132  0.394000  0.394959  12.305699  10.1   8.875542  10.530896   \n",
       "2754  0.436449  0.394609  0.394414   9.365854   6.0   8.074074   9.080119   \n",
       "2762  0.419933  0.390927  0.380907  14.747191  12.5  10.559006  12.281387   \n",
       "2769  0.424973  0.378992  0.372266  13.064187   9.4  10.003691  10.337188   \n",
       "2795  0.412614  0.410802  0.413940  15.229616  10.5  12.894034  17.191502   \n",
       "2798  0.359174  0.375810  0.380032  11.315107   7.6   8.693149   9.104427   \n",
       "2808  0.388821  0.354559  0.378073  11.758921   9.6  10.418149  12.918448   \n",
       "\n",
       "                                             geometry  \n",
       "2698  <pysal.cg.shapes.Polygon object at 0x10e6567f0>  \n",
       "2716  <pysal.cg.shapes.Polygon object at 0x10e656fd0>  \n",
       "2742  <pysal.cg.shapes.Polygon object at 0x10e67eba8>  \n",
       "2751  <pysal.cg.shapes.Polygon object at 0x10e67eef0>  \n",
       "2754  <pysal.cg.shapes.Polygon object at 0x10e6aa160>  \n",
       "2762  <pysal.cg.shapes.Polygon object at 0x10e6aa518>  \n",
       "2769  <pysal.cg.shapes.Polygon object at 0x10e6aa908>  \n",
       "2795  <pysal.cg.shapes.Polygon object at 0x10e6d04a8>  \n",
       "2798  <pysal.cg.shapes.Polygon object at 0x10e6d05f8>  \n",
       "2808  <pysal.cg.shapes.Polygon object at 0x10e6d0a58>  \n",
       "\n",
       "[10 rows x 70 columns]"
      ]
     },
     "execution_count": 57,
     "metadata": {},
     "output_type": "execute_result"
    }
   ],
   "source": [
    "# Find all the counties with centroids within 50 miles of Austin\n",
    "def near_target_point(polygon, target=austin, threshold=50):\n",
    "    return gcd(polygon.centroid, target) < threshold \n",
    "\n",
    "data_table[data_table.geometry.apply(near_target_point)]"
   ]
  },
  {
   "cell_type": "markdown",
   "metadata": {},
   "source": [
    "### Moving in and out of the dataframe"
   ]
  },
  {
   "cell_type": "markdown",
   "metadata": {},
   "source": [
    "Most things in PySAL will be explicit about what type their input should be. Most of the time, PySAL functions require either lists or arrays. This is why the file-handler methods are the default IO method in PySAL: the rest of the computational tools are built around their datatypes. \n",
    "\n",
    "However, it is very easy to get the correct datatype from Pandas using the `values` and `tolist` commands. \n",
    "\n",
    "`tolist()` will convert its entries to a list. But, it can only be called on individual columns (called `Series` in `pandas` documentation).\n",
    "\n",
    "So, to turn the `NAME` column into a list:"
   ]
  },
  {
   "cell_type": "code",
   "execution_count": 58,
   "metadata": {
    "collapsed": false
   },
   "outputs": [
    {
     "data": {
      "text/plain": [
       "['Lake of the Woods',\n",
       " 'Ferry',\n",
       " 'Stevens',\n",
       " 'Okanogan',\n",
       " 'Pend Oreille',\n",
       " 'Boundary',\n",
       " 'Lincoln',\n",
       " 'Flathead',\n",
       " 'Glacier',\n",
       " 'Toole']"
      ]
     },
     "execution_count": 58,
     "metadata": {},
     "output_type": "execute_result"
    }
   ],
   "source": [
    "data_table.NAME.tolist()[0:10]"
   ]
  },
  {
   "cell_type": "markdown",
   "metadata": {},
   "source": [
    "To extract many columns, you must select the columns you want and call their `.values` attribute. \n",
    "\n",
    "If we were interested in grabbing all of the `HR` variables in the dataframe, we could first select those column names:"
   ]
  },
  {
   "cell_type": "code",
   "execution_count": 59,
   "metadata": {
    "collapsed": false
   },
   "outputs": [
    {
     "data": {
      "text/plain": [
       "['HR60', 'HR70', 'HR80', 'HR90']"
      ]
     },
     "execution_count": 59,
     "metadata": {},
     "output_type": "execute_result"
    }
   ],
   "source": [
    "HRs = [col for col in data_table.columns if col.startswith('HR')]\n",
    "HRs"
   ]
  },
  {
   "cell_type": "markdown",
   "metadata": {},
   "source": [
    "We can use this to focus only on the columns we want:"
   ]
  },
  {
   "cell_type": "code",
   "execution_count": 61,
   "metadata": {
    "collapsed": false,
    "scrolled": false
   },
   "outputs": [
    {
     "data": {
      "text/html": [
       "<div>\n",
       "<table border=\"1\" class=\"dataframe\">\n",
       "  <thead>\n",
       "    <tr style=\"text-align: right;\">\n",
       "      <th></th>\n",
       "      <th>HR60</th>\n",
       "      <th>HR70</th>\n",
       "      <th>HR80</th>\n",
       "      <th>HR90</th>\n",
       "    </tr>\n",
       "  </thead>\n",
       "  <tbody>\n",
       "    <tr>\n",
       "      <th>0</th>\n",
       "      <td>0.000000</td>\n",
       "      <td>0.000000</td>\n",
       "      <td>8.855827</td>\n",
       "      <td>0.000000</td>\n",
       "    </tr>\n",
       "    <tr>\n",
       "      <th>1</th>\n",
       "      <td>0.000000</td>\n",
       "      <td>0.000000</td>\n",
       "      <td>17.208742</td>\n",
       "      <td>15.885624</td>\n",
       "    </tr>\n",
       "    <tr>\n",
       "      <th>2</th>\n",
       "      <td>1.863863</td>\n",
       "      <td>1.915158</td>\n",
       "      <td>3.450775</td>\n",
       "      <td>6.462453</td>\n",
       "    </tr>\n",
       "    <tr>\n",
       "      <th>3</th>\n",
       "      <td>2.612330</td>\n",
       "      <td>1.288643</td>\n",
       "      <td>3.263814</td>\n",
       "      <td>6.996502</td>\n",
       "    </tr>\n",
       "    <tr>\n",
       "      <th>4</th>\n",
       "      <td>0.000000</td>\n",
       "      <td>0.000000</td>\n",
       "      <td>7.770008</td>\n",
       "      <td>7.478033</td>\n",
       "    </tr>\n",
       "  </tbody>\n",
       "</table>\n",
       "</div>"
      ],
      "text/plain": [
       "       HR60      HR70       HR80       HR90\n",
       "0  0.000000  0.000000   8.855827   0.000000\n",
       "1  0.000000  0.000000  17.208742  15.885624\n",
       "2  1.863863  1.915158   3.450775   6.462453\n",
       "3  2.612330  1.288643   3.263814   6.996502\n",
       "4  0.000000  0.000000   7.770008   7.478033"
      ]
     },
     "execution_count": 61,
     "metadata": {},
     "output_type": "execute_result"
    }
   ],
   "source": [
    "data_table[HRs].head()"
   ]
  },
  {
   "cell_type": "markdown",
   "metadata": {},
   "source": [
    "With this, calling `.values` gives an array containing all of the entries in this subset of the table:"
   ]
  },
  {
   "cell_type": "code",
   "execution_count": 99,
   "metadata": {
    "collapsed": false
   },
   "outputs": [
    {
     "data": {
      "text/plain": [
       "array([[  0.        ,   8.85582713],\n",
       "       [ 15.88562351,  17.20874204],\n",
       "       [  6.46245315,   3.4507747 ],\n",
       "       ..., \n",
       "       [  4.36732988,   5.2803488 ],\n",
       "       [  3.72771194,   3.00003   ],\n",
       "       [  2.04885495,   1.19474313]])"
      ]
     },
     "execution_count": 99,
     "metadata": {},
     "output_type": "execute_result"
    }
   ],
   "source": [
    "data_table[['HR90', 'HR80']].values"
   ]
  },
  {
   "cell_type": "markdown",
   "metadata": {},
   "source": [
    "Using the PySAL pdio tools means that if you're comfortable with working in Pandas, you can continue to do so. \n",
    "\n",
    "If you're more comfortable using Numpy or raw Python to do your data processing, PySAL's IO tools naturally support this. "
   ]
  },
  {
   "cell_type": "markdown",
   "metadata": {},
   "source": [
    "## Exercises\n",
    "\n",
    "1. Find the county with the western most centroid that is within 1000 miles of Austin.\n",
    "2. Find the distance between Austin and that centroid."
   ]
  }
 ],
 "metadata": {
  "kernelspec": {
   "display_name": "Python 3",
   "language": "python",
   "name": "python3"
  },
  "language_info": {
   "codemirror_mode": {
    "name": "ipython",
    "version": 3
   },
   "file_extension": ".py",
   "mimetype": "text/x-python",
   "name": "python",
   "nbconvert_exporter": "python",
   "pygments_lexer": "ipython3",
   "version": "3.5.1"
  },
  "widgets": {
   "state": {},
   "version": "1.1.2"
  }
 },
 "nbformat": 4,
 "nbformat_minor": 0
}
